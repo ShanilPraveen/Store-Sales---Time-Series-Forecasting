{
 "cells": [
  {
   "cell_type": "code",
   "execution_count": 1,
   "metadata": {
    "_cell_guid": "b1076dfc-b9ad-4769-8c92-a6c4dae69d19",
    "_uuid": "8f2839f25d086af736a60e9eeb907d3b93b6e0e5",
    "execution": {
     "iopub.execute_input": "2025-09-12T17:29:51.639051Z",
     "iopub.status.busy": "2025-09-12T17:29:51.638643Z",
     "iopub.status.idle": "2025-09-12T17:29:54.453691Z",
     "shell.execute_reply": "2025-09-12T17:29:54.452665Z",
     "shell.execute_reply.started": "2025-09-12T17:29:51.639022Z"
    },
    "trusted": true
   },
   "outputs": [],
   "source": [
    "import numpy as np \n",
    "import pandas as pd \n",
    "import os"
   ]
  },
  {
   "cell_type": "code",
   "execution_count": 25,
   "metadata": {
    "execution": {
     "iopub.execute_input": "2025-09-12T17:30:00.239065Z",
     "iopub.status.busy": "2025-09-12T17:30:00.238703Z",
     "iopub.status.idle": "2025-09-12T17:30:03.700399Z",
     "shell.execute_reply": "2025-09-12T17:30:03.698805Z",
     "shell.execute_reply.started": "2025-09-12T17:30:00.239035Z"
    },
    "trusted": true
   },
   "outputs": [],
   "source": [
    "train_data = pd.read_csv(\"train.csv\")\n",
    "test_data = pd.read_csv(\"test.csv\")\n",
    "holiday_data = pd.read_csv(\"holidays_events.csv\")\n",
    "oil_data = pd.read_csv(\"oil.csv\")\n",
    "stores_data = pd.read_csv(\"stores.csv\")\n",
    "transactions_data = pd.read_csv(\"transactions.csv\")"
   ]
  },
  {
   "cell_type": "code",
   "execution_count": 3,
   "metadata": {
    "execution": {
     "iopub.execute_input": "2025-09-12T17:30:16.642607Z",
     "iopub.status.busy": "2025-09-12T17:30:16.642266Z",
     "iopub.status.idle": "2025-09-12T17:30:16.680603Z",
     "shell.execute_reply": "2025-09-12T17:30:16.679407Z",
     "shell.execute_reply.started": "2025-09-12T17:30:16.642582Z"
    },
    "trusted": true
   },
   "outputs": [
    {
     "data": {
      "text/html": [
       "<div>\n",
       "<style scoped>\n",
       "    .dataframe tbody tr th:only-of-type {\n",
       "        vertical-align: middle;\n",
       "    }\n",
       "\n",
       "    .dataframe tbody tr th {\n",
       "        vertical-align: top;\n",
       "    }\n",
       "\n",
       "    .dataframe thead th {\n",
       "        text-align: right;\n",
       "    }\n",
       "</style>\n",
       "<table border=\"1\" class=\"dataframe\">\n",
       "  <thead>\n",
       "    <tr style=\"text-align: right;\">\n",
       "      <th></th>\n",
       "      <th>id</th>\n",
       "      <th>date</th>\n",
       "      <th>store_nbr</th>\n",
       "      <th>family</th>\n",
       "      <th>sales</th>\n",
       "      <th>onpromotion</th>\n",
       "    </tr>\n",
       "  </thead>\n",
       "  <tbody>\n",
       "    <tr>\n",
       "      <th>0</th>\n",
       "      <td>0</td>\n",
       "      <td>2013-01-01</td>\n",
       "      <td>1</td>\n",
       "      <td>AUTOMOTIVE</td>\n",
       "      <td>0.000</td>\n",
       "      <td>0</td>\n",
       "    </tr>\n",
       "    <tr>\n",
       "      <th>1</th>\n",
       "      <td>1</td>\n",
       "      <td>2013-01-01</td>\n",
       "      <td>1</td>\n",
       "      <td>BABY CARE</td>\n",
       "      <td>0.000</td>\n",
       "      <td>0</td>\n",
       "    </tr>\n",
       "    <tr>\n",
       "      <th>2</th>\n",
       "      <td>2</td>\n",
       "      <td>2013-01-01</td>\n",
       "      <td>1</td>\n",
       "      <td>BEAUTY</td>\n",
       "      <td>0.000</td>\n",
       "      <td>0</td>\n",
       "    </tr>\n",
       "    <tr>\n",
       "      <th>3</th>\n",
       "      <td>3</td>\n",
       "      <td>2013-01-01</td>\n",
       "      <td>1</td>\n",
       "      <td>BEVERAGES</td>\n",
       "      <td>0.000</td>\n",
       "      <td>0</td>\n",
       "    </tr>\n",
       "    <tr>\n",
       "      <th>4</th>\n",
       "      <td>4</td>\n",
       "      <td>2013-01-01</td>\n",
       "      <td>1</td>\n",
       "      <td>BOOKS</td>\n",
       "      <td>0.000</td>\n",
       "      <td>0</td>\n",
       "    </tr>\n",
       "    <tr>\n",
       "      <th>...</th>\n",
       "      <td>...</td>\n",
       "      <td>...</td>\n",
       "      <td>...</td>\n",
       "      <td>...</td>\n",
       "      <td>...</td>\n",
       "      <td>...</td>\n",
       "    </tr>\n",
       "    <tr>\n",
       "      <th>3000883</th>\n",
       "      <td>3000883</td>\n",
       "      <td>2017-08-15</td>\n",
       "      <td>9</td>\n",
       "      <td>POULTRY</td>\n",
       "      <td>438.133</td>\n",
       "      <td>0</td>\n",
       "    </tr>\n",
       "    <tr>\n",
       "      <th>3000884</th>\n",
       "      <td>3000884</td>\n",
       "      <td>2017-08-15</td>\n",
       "      <td>9</td>\n",
       "      <td>PREPARED FOODS</td>\n",
       "      <td>154.553</td>\n",
       "      <td>1</td>\n",
       "    </tr>\n",
       "    <tr>\n",
       "      <th>3000885</th>\n",
       "      <td>3000885</td>\n",
       "      <td>2017-08-15</td>\n",
       "      <td>9</td>\n",
       "      <td>PRODUCE</td>\n",
       "      <td>2419.729</td>\n",
       "      <td>148</td>\n",
       "    </tr>\n",
       "    <tr>\n",
       "      <th>3000886</th>\n",
       "      <td>3000886</td>\n",
       "      <td>2017-08-15</td>\n",
       "      <td>9</td>\n",
       "      <td>SCHOOL AND OFFICE SUPPLIES</td>\n",
       "      <td>121.000</td>\n",
       "      <td>8</td>\n",
       "    </tr>\n",
       "    <tr>\n",
       "      <th>3000887</th>\n",
       "      <td>3000887</td>\n",
       "      <td>2017-08-15</td>\n",
       "      <td>9</td>\n",
       "      <td>SEAFOOD</td>\n",
       "      <td>16.000</td>\n",
       "      <td>0</td>\n",
       "    </tr>\n",
       "  </tbody>\n",
       "</table>\n",
       "<p>3000888 rows × 6 columns</p>\n",
       "</div>"
      ],
      "text/plain": [
       "              id        date  store_nbr                      family     sales  \\\n",
       "0              0  2013-01-01          1                  AUTOMOTIVE     0.000   \n",
       "1              1  2013-01-01          1                   BABY CARE     0.000   \n",
       "2              2  2013-01-01          1                      BEAUTY     0.000   \n",
       "3              3  2013-01-01          1                   BEVERAGES     0.000   \n",
       "4              4  2013-01-01          1                       BOOKS     0.000   \n",
       "...          ...         ...        ...                         ...       ...   \n",
       "3000883  3000883  2017-08-15          9                     POULTRY   438.133   \n",
       "3000884  3000884  2017-08-15          9              PREPARED FOODS   154.553   \n",
       "3000885  3000885  2017-08-15          9                     PRODUCE  2419.729   \n",
       "3000886  3000886  2017-08-15          9  SCHOOL AND OFFICE SUPPLIES   121.000   \n",
       "3000887  3000887  2017-08-15          9                     SEAFOOD    16.000   \n",
       "\n",
       "         onpromotion  \n",
       "0                  0  \n",
       "1                  0  \n",
       "2                  0  \n",
       "3                  0  \n",
       "4                  0  \n",
       "...              ...  \n",
       "3000883            0  \n",
       "3000884            1  \n",
       "3000885          148  \n",
       "3000886            8  \n",
       "3000887            0  \n",
       "\n",
       "[3000888 rows x 6 columns]"
      ]
     },
     "execution_count": 3,
     "metadata": {},
     "output_type": "execute_result"
    }
   ],
   "source": [
    "train_data"
   ]
  },
  {
   "cell_type": "code",
   "execution_count": 4,
   "metadata": {
    "execution": {
     "iopub.execute_input": "2025-09-12T17:36:57.633161Z",
     "iopub.status.busy": "2025-09-12T17:36:57.632805Z",
     "iopub.status.idle": "2025-09-12T17:36:57.958735Z",
     "shell.execute_reply": "2025-09-12T17:36:57.957620Z",
     "shell.execute_reply.started": "2025-09-12T17:36:57.633134Z"
    },
    "trusted": true
   },
   "outputs": [
    {
     "name": "stdout",
     "output_type": "stream",
     "text": [
      "id             0\n",
      "date           0\n",
      "store_nbr      0\n",
      "family         0\n",
      "sales          0\n",
      "onpromotion    0\n",
      "dtype: int64\n"
     ]
    }
   ],
   "source": [
    "print(train_data.isnull().sum())"
   ]
  },
  {
   "cell_type": "code",
   "execution_count": 7,
   "metadata": {
    "execution": {
     "iopub.execute_input": "2025-09-12T17:37:21.217833Z",
     "iopub.status.busy": "2025-09-12T17:37:21.217532Z",
     "iopub.status.idle": "2025-09-12T17:37:21.228851Z",
     "shell.execute_reply": "2025-09-12T17:37:21.227894Z",
     "shell.execute_reply.started": "2025-09-12T17:37:21.217809Z"
    },
    "trusted": true
   },
   "outputs": [
    {
     "name": "stdout",
     "output_type": "stream",
     "text": [
      "id             0\n",
      "date           0\n",
      "store_nbr      0\n",
      "family         0\n",
      "onpromotion    0\n",
      "dtype: int64\n"
     ]
    }
   ],
   "source": [
    "print(test_data.isnull().sum())"
   ]
  },
  {
   "cell_type": "code",
   "execution_count": 5,
   "metadata": {
    "execution": {
     "iopub.execute_input": "2025-09-12T17:38:33.092711Z",
     "iopub.status.busy": "2025-09-12T17:38:33.092358Z",
     "iopub.status.idle": "2025-09-12T17:38:33.110760Z",
     "shell.execute_reply": "2025-09-12T17:38:33.109560Z",
     "shell.execute_reply.started": "2025-09-12T17:38:33.092686Z"
    },
    "trusted": true
   },
   "outputs": [
    {
     "data": {
      "text/html": [
       "<div>\n",
       "<style scoped>\n",
       "    .dataframe tbody tr th:only-of-type {\n",
       "        vertical-align: middle;\n",
       "    }\n",
       "\n",
       "    .dataframe tbody tr th {\n",
       "        vertical-align: top;\n",
       "    }\n",
       "\n",
       "    .dataframe thead th {\n",
       "        text-align: right;\n",
       "    }\n",
       "</style>\n",
       "<table border=\"1\" class=\"dataframe\">\n",
       "  <thead>\n",
       "    <tr style=\"text-align: right;\">\n",
       "      <th></th>\n",
       "      <th>date</th>\n",
       "      <th>type</th>\n",
       "      <th>locale</th>\n",
       "      <th>locale_name</th>\n",
       "      <th>description</th>\n",
       "      <th>transferred</th>\n",
       "    </tr>\n",
       "  </thead>\n",
       "  <tbody>\n",
       "    <tr>\n",
       "      <th>0</th>\n",
       "      <td>2012-03-02</td>\n",
       "      <td>Holiday</td>\n",
       "      <td>Local</td>\n",
       "      <td>Manta</td>\n",
       "      <td>Fundacion de Manta</td>\n",
       "      <td>False</td>\n",
       "    </tr>\n",
       "    <tr>\n",
       "      <th>1</th>\n",
       "      <td>2012-04-01</td>\n",
       "      <td>Holiday</td>\n",
       "      <td>Regional</td>\n",
       "      <td>Cotopaxi</td>\n",
       "      <td>Provincializacion de Cotopaxi</td>\n",
       "      <td>False</td>\n",
       "    </tr>\n",
       "    <tr>\n",
       "      <th>2</th>\n",
       "      <td>2012-04-12</td>\n",
       "      <td>Holiday</td>\n",
       "      <td>Local</td>\n",
       "      <td>Cuenca</td>\n",
       "      <td>Fundacion de Cuenca</td>\n",
       "      <td>False</td>\n",
       "    </tr>\n",
       "    <tr>\n",
       "      <th>3</th>\n",
       "      <td>2012-04-14</td>\n",
       "      <td>Holiday</td>\n",
       "      <td>Local</td>\n",
       "      <td>Libertad</td>\n",
       "      <td>Cantonizacion de Libertad</td>\n",
       "      <td>False</td>\n",
       "    </tr>\n",
       "    <tr>\n",
       "      <th>4</th>\n",
       "      <td>2012-04-21</td>\n",
       "      <td>Holiday</td>\n",
       "      <td>Local</td>\n",
       "      <td>Riobamba</td>\n",
       "      <td>Cantonizacion de Riobamba</td>\n",
       "      <td>False</td>\n",
       "    </tr>\n",
       "    <tr>\n",
       "      <th>...</th>\n",
       "      <td>...</td>\n",
       "      <td>...</td>\n",
       "      <td>...</td>\n",
       "      <td>...</td>\n",
       "      <td>...</td>\n",
       "      <td>...</td>\n",
       "    </tr>\n",
       "    <tr>\n",
       "      <th>345</th>\n",
       "      <td>2017-12-22</td>\n",
       "      <td>Additional</td>\n",
       "      <td>National</td>\n",
       "      <td>Ecuador</td>\n",
       "      <td>Navidad-3</td>\n",
       "      <td>False</td>\n",
       "    </tr>\n",
       "    <tr>\n",
       "      <th>346</th>\n",
       "      <td>2017-12-23</td>\n",
       "      <td>Additional</td>\n",
       "      <td>National</td>\n",
       "      <td>Ecuador</td>\n",
       "      <td>Navidad-2</td>\n",
       "      <td>False</td>\n",
       "    </tr>\n",
       "    <tr>\n",
       "      <th>347</th>\n",
       "      <td>2017-12-24</td>\n",
       "      <td>Additional</td>\n",
       "      <td>National</td>\n",
       "      <td>Ecuador</td>\n",
       "      <td>Navidad-1</td>\n",
       "      <td>False</td>\n",
       "    </tr>\n",
       "    <tr>\n",
       "      <th>348</th>\n",
       "      <td>2017-12-25</td>\n",
       "      <td>Holiday</td>\n",
       "      <td>National</td>\n",
       "      <td>Ecuador</td>\n",
       "      <td>Navidad</td>\n",
       "      <td>False</td>\n",
       "    </tr>\n",
       "    <tr>\n",
       "      <th>349</th>\n",
       "      <td>2017-12-26</td>\n",
       "      <td>Additional</td>\n",
       "      <td>National</td>\n",
       "      <td>Ecuador</td>\n",
       "      <td>Navidad+1</td>\n",
       "      <td>False</td>\n",
       "    </tr>\n",
       "  </tbody>\n",
       "</table>\n",
       "<p>350 rows × 6 columns</p>\n",
       "</div>"
      ],
      "text/plain": [
       "           date        type    locale locale_name  \\\n",
       "0    2012-03-02     Holiday     Local       Manta   \n",
       "1    2012-04-01     Holiday  Regional    Cotopaxi   \n",
       "2    2012-04-12     Holiday     Local      Cuenca   \n",
       "3    2012-04-14     Holiday     Local    Libertad   \n",
       "4    2012-04-21     Holiday     Local    Riobamba   \n",
       "..          ...         ...       ...         ...   \n",
       "345  2017-12-22  Additional  National     Ecuador   \n",
       "346  2017-12-23  Additional  National     Ecuador   \n",
       "347  2017-12-24  Additional  National     Ecuador   \n",
       "348  2017-12-25     Holiday  National     Ecuador   \n",
       "349  2017-12-26  Additional  National     Ecuador   \n",
       "\n",
       "                       description  transferred  \n",
       "0               Fundacion de Manta        False  \n",
       "1    Provincializacion de Cotopaxi        False  \n",
       "2              Fundacion de Cuenca        False  \n",
       "3        Cantonizacion de Libertad        False  \n",
       "4        Cantonizacion de Riobamba        False  \n",
       "..                             ...          ...  \n",
       "345                      Navidad-3        False  \n",
       "346                      Navidad-2        False  \n",
       "347                      Navidad-1        False  \n",
       "348                        Navidad        False  \n",
       "349                      Navidad+1        False  \n",
       "\n",
       "[350 rows x 6 columns]"
      ]
     },
     "execution_count": 5,
     "metadata": {},
     "output_type": "execute_result"
    }
   ],
   "source": [
    "holiday_data"
   ]
  },
  {
   "cell_type": "code",
   "execution_count": 112,
   "metadata": {},
   "outputs": [
    {
     "data": {
      "text/plain": [
       "Index(['date', 'type', 'locale', 'locale_name', 'description', 'transferred'], dtype='object')"
      ]
     },
     "execution_count": 112,
     "metadata": {},
     "output_type": "execute_result"
    }
   ],
   "source": [
    "holiday_data.columns"
   ]
  },
  {
   "cell_type": "code",
   "execution_count": null,
   "metadata": {
    "execution": {
     "iopub.execute_input": "2025-09-12T18:01:47.208731Z",
     "iopub.status.busy": "2025-09-12T18:01:47.207956Z",
     "iopub.status.idle": "2025-09-12T18:01:47.215972Z",
     "shell.execute_reply": "2025-09-12T18:01:47.214743Z",
     "shell.execute_reply.started": "2025-09-12T18:01:47.208696Z"
    },
    "trusted": true
   },
   "outputs": [
    {
     "data": {
      "text/plain": [
       "array(['Holiday', 'Transfer', 'Additional', 'Bridge', 'Work Day', 'Event'],\n",
       "      dtype=object)"
      ]
     },
     "execution_count": 6,
     "metadata": {},
     "output_type": "execute_result"
    }
   ],
   "source": [
    "holiday_data[\"type\"].unique()"
   ]
  },
  {
   "cell_type": "code",
   "execution_count": 110,
   "metadata": {},
   "outputs": [
    {
     "data": {
      "text/plain": [
       "array(['Local', 'Regional', 'National'], dtype=object)"
      ]
     },
     "execution_count": 110,
     "metadata": {},
     "output_type": "execute_result"
    }
   ],
   "source": [
    "holiday_data[\"locale\"].unique()"
   ]
  },
  {
   "cell_type": "code",
   "execution_count": 111,
   "metadata": {},
   "outputs": [
    {
     "data": {
      "text/plain": [
       "array(['Manta', 'Cotopaxi', 'Cuenca', 'Libertad', 'Riobamba', 'Puyo',\n",
       "       'Guaranda', 'Imbabura', 'Latacunga', 'Machala', 'Santo Domingo',\n",
       "       'El Carmen', 'Cayambe', 'Esmeraldas', 'Ecuador', 'Ambato',\n",
       "       'Ibarra', 'Quevedo', 'Santo Domingo de los Tsachilas',\n",
       "       'Santa Elena', 'Quito', 'Loja', 'Salinas', 'Guayaquil'],\n",
       "      dtype=object)"
      ]
     },
     "execution_count": 111,
     "metadata": {},
     "output_type": "execute_result"
    }
   ],
   "source": [
    "holiday_data[\"locale_name\"].unique()"
   ]
  },
  {
   "cell_type": "code",
   "execution_count": 7,
   "metadata": {
    "execution": {
     "iopub.execute_input": "2025-09-12T17:39:12.432718Z",
     "iopub.status.busy": "2025-09-12T17:39:12.432408Z",
     "iopub.status.idle": "2025-09-12T17:39:12.439727Z",
     "shell.execute_reply": "2025-09-12T17:39:12.438742Z",
     "shell.execute_reply.started": "2025-09-12T17:39:12.432694Z"
    },
    "trusted": true
   },
   "outputs": [
    {
     "name": "stdout",
     "output_type": "stream",
     "text": [
      "date           0\n",
      "type           0\n",
      "locale         0\n",
      "locale_name    0\n",
      "description    0\n",
      "transferred    0\n",
      "dtype: int64\n"
     ]
    }
   ],
   "source": [
    "print(holiday_data.isnull().sum())"
   ]
  },
  {
   "cell_type": "code",
   "execution_count": 8,
   "metadata": {
    "execution": {
     "iopub.execute_input": "2025-09-12T17:38:47.153639Z",
     "iopub.status.busy": "2025-09-12T17:38:47.153306Z",
     "iopub.status.idle": "2025-09-12T17:38:47.168889Z",
     "shell.execute_reply": "2025-09-12T17:38:47.167609Z",
     "shell.execute_reply.started": "2025-09-12T17:38:47.153613Z"
    },
    "trusted": true
   },
   "outputs": [
    {
     "data": {
      "text/html": [
       "<div>\n",
       "<style scoped>\n",
       "    .dataframe tbody tr th:only-of-type {\n",
       "        vertical-align: middle;\n",
       "    }\n",
       "\n",
       "    .dataframe tbody tr th {\n",
       "        vertical-align: top;\n",
       "    }\n",
       "\n",
       "    .dataframe thead th {\n",
       "        text-align: right;\n",
       "    }\n",
       "</style>\n",
       "<table border=\"1\" class=\"dataframe\">\n",
       "  <thead>\n",
       "    <tr style=\"text-align: right;\">\n",
       "      <th></th>\n",
       "      <th>date</th>\n",
       "      <th>dcoilwtico</th>\n",
       "    </tr>\n",
       "  </thead>\n",
       "  <tbody>\n",
       "    <tr>\n",
       "      <th>0</th>\n",
       "      <td>2013-01-01</td>\n",
       "      <td>NaN</td>\n",
       "    </tr>\n",
       "    <tr>\n",
       "      <th>1</th>\n",
       "      <td>2013-01-02</td>\n",
       "      <td>93.14</td>\n",
       "    </tr>\n",
       "    <tr>\n",
       "      <th>2</th>\n",
       "      <td>2013-01-03</td>\n",
       "      <td>92.97</td>\n",
       "    </tr>\n",
       "    <tr>\n",
       "      <th>3</th>\n",
       "      <td>2013-01-04</td>\n",
       "      <td>93.12</td>\n",
       "    </tr>\n",
       "    <tr>\n",
       "      <th>4</th>\n",
       "      <td>2013-01-07</td>\n",
       "      <td>93.20</td>\n",
       "    </tr>\n",
       "    <tr>\n",
       "      <th>...</th>\n",
       "      <td>...</td>\n",
       "      <td>...</td>\n",
       "    </tr>\n",
       "    <tr>\n",
       "      <th>1213</th>\n",
       "      <td>2017-08-25</td>\n",
       "      <td>47.65</td>\n",
       "    </tr>\n",
       "    <tr>\n",
       "      <th>1214</th>\n",
       "      <td>2017-08-28</td>\n",
       "      <td>46.40</td>\n",
       "    </tr>\n",
       "    <tr>\n",
       "      <th>1215</th>\n",
       "      <td>2017-08-29</td>\n",
       "      <td>46.46</td>\n",
       "    </tr>\n",
       "    <tr>\n",
       "      <th>1216</th>\n",
       "      <td>2017-08-30</td>\n",
       "      <td>45.96</td>\n",
       "    </tr>\n",
       "    <tr>\n",
       "      <th>1217</th>\n",
       "      <td>2017-08-31</td>\n",
       "      <td>47.26</td>\n",
       "    </tr>\n",
       "  </tbody>\n",
       "</table>\n",
       "<p>1218 rows × 2 columns</p>\n",
       "</div>"
      ],
      "text/plain": [
       "            date  dcoilwtico\n",
       "0     2013-01-01         NaN\n",
       "1     2013-01-02       93.14\n",
       "2     2013-01-03       92.97\n",
       "3     2013-01-04       93.12\n",
       "4     2013-01-07       93.20\n",
       "...          ...         ...\n",
       "1213  2017-08-25       47.65\n",
       "1214  2017-08-28       46.40\n",
       "1215  2017-08-29       46.46\n",
       "1216  2017-08-30       45.96\n",
       "1217  2017-08-31       47.26\n",
       "\n",
       "[1218 rows x 2 columns]"
      ]
     },
     "execution_count": 8,
     "metadata": {},
     "output_type": "execute_result"
    }
   ],
   "source": [
    "oil_data"
   ]
  },
  {
   "cell_type": "code",
   "execution_count": 11,
   "metadata": {
    "execution": {
     "iopub.execute_input": "2025-09-12T17:39:23.812796Z",
     "iopub.status.busy": "2025-09-12T17:39:23.812459Z",
     "iopub.status.idle": "2025-09-12T17:39:23.820476Z",
     "shell.execute_reply": "2025-09-12T17:39:23.819163Z",
     "shell.execute_reply.started": "2025-09-12T17:39:23.812771Z"
    },
    "trusted": true
   },
   "outputs": [
    {
     "name": "stdout",
     "output_type": "stream",
     "text": [
      "date           0\n",
      "dcoilwtico    43\n",
      "dtype: int64\n"
     ]
    }
   ],
   "source": [
    "print(oil_data.isnull().sum())"
   ]
  },
  {
   "cell_type": "code",
   "execution_count": 14,
   "metadata": {
    "execution": {
     "iopub.execute_input": "2025-09-12T17:40:33.543740Z",
     "iopub.status.busy": "2025-09-12T17:40:33.543409Z",
     "iopub.status.idle": "2025-09-12T17:40:33.551516Z",
     "shell.execute_reply": "2025-09-12T17:40:33.549868Z",
     "shell.execute_reply.started": "2025-09-12T17:40:33.543713Z"
    },
    "trusted": true
   },
   "outputs": [
    {
     "name": "stdout",
     "output_type": "stream",
     "text": [
      "store_nbr    0\n",
      "city         0\n",
      "state        0\n",
      "type         0\n",
      "cluster      0\n",
      "dtype: int64\n"
     ]
    }
   ],
   "source": [
    "print(stores_data.isnull().sum())"
   ]
  },
  {
   "cell_type": "code",
   "execution_count": 15,
   "metadata": {
    "execution": {
     "iopub.execute_input": "2025-09-12T17:42:57.812645Z",
     "iopub.status.busy": "2025-09-12T17:42:57.812304Z",
     "iopub.status.idle": "2025-09-12T17:42:57.824560Z",
     "shell.execute_reply": "2025-09-12T17:42:57.823396Z",
     "shell.execute_reply.started": "2025-09-12T17:42:57.812620Z"
    },
    "trusted": true
   },
   "outputs": [
    {
     "data": {
      "text/html": [
       "<div>\n",
       "<style scoped>\n",
       "    .dataframe tbody tr th:only-of-type {\n",
       "        vertical-align: middle;\n",
       "    }\n",
       "\n",
       "    .dataframe tbody tr th {\n",
       "        vertical-align: top;\n",
       "    }\n",
       "\n",
       "    .dataframe thead th {\n",
       "        text-align: right;\n",
       "    }\n",
       "</style>\n",
       "<table border=\"1\" class=\"dataframe\">\n",
       "  <thead>\n",
       "    <tr style=\"text-align: right;\">\n",
       "      <th></th>\n",
       "      <th>date</th>\n",
       "      <th>store_nbr</th>\n",
       "      <th>transactions</th>\n",
       "    </tr>\n",
       "  </thead>\n",
       "  <tbody>\n",
       "    <tr>\n",
       "      <th>0</th>\n",
       "      <td>2013-01-01</td>\n",
       "      <td>25</td>\n",
       "      <td>770</td>\n",
       "    </tr>\n",
       "    <tr>\n",
       "      <th>1</th>\n",
       "      <td>2013-01-02</td>\n",
       "      <td>1</td>\n",
       "      <td>2111</td>\n",
       "    </tr>\n",
       "    <tr>\n",
       "      <th>2</th>\n",
       "      <td>2013-01-02</td>\n",
       "      <td>2</td>\n",
       "      <td>2358</td>\n",
       "    </tr>\n",
       "    <tr>\n",
       "      <th>3</th>\n",
       "      <td>2013-01-02</td>\n",
       "      <td>3</td>\n",
       "      <td>3487</td>\n",
       "    </tr>\n",
       "    <tr>\n",
       "      <th>4</th>\n",
       "      <td>2013-01-02</td>\n",
       "      <td>4</td>\n",
       "      <td>1922</td>\n",
       "    </tr>\n",
       "    <tr>\n",
       "      <th>...</th>\n",
       "      <td>...</td>\n",
       "      <td>...</td>\n",
       "      <td>...</td>\n",
       "    </tr>\n",
       "    <tr>\n",
       "      <th>83483</th>\n",
       "      <td>2017-08-15</td>\n",
       "      <td>50</td>\n",
       "      <td>2804</td>\n",
       "    </tr>\n",
       "    <tr>\n",
       "      <th>83484</th>\n",
       "      <td>2017-08-15</td>\n",
       "      <td>51</td>\n",
       "      <td>1573</td>\n",
       "    </tr>\n",
       "    <tr>\n",
       "      <th>83485</th>\n",
       "      <td>2017-08-15</td>\n",
       "      <td>52</td>\n",
       "      <td>2255</td>\n",
       "    </tr>\n",
       "    <tr>\n",
       "      <th>83486</th>\n",
       "      <td>2017-08-15</td>\n",
       "      <td>53</td>\n",
       "      <td>932</td>\n",
       "    </tr>\n",
       "    <tr>\n",
       "      <th>83487</th>\n",
       "      <td>2017-08-15</td>\n",
       "      <td>54</td>\n",
       "      <td>802</td>\n",
       "    </tr>\n",
       "  </tbody>\n",
       "</table>\n",
       "<p>83488 rows × 3 columns</p>\n",
       "</div>"
      ],
      "text/plain": [
       "             date  store_nbr  transactions\n",
       "0      2013-01-01         25           770\n",
       "1      2013-01-02          1          2111\n",
       "2      2013-01-02          2          2358\n",
       "3      2013-01-02          3          3487\n",
       "4      2013-01-02          4          1922\n",
       "...           ...        ...           ...\n",
       "83483  2017-08-15         50          2804\n",
       "83484  2017-08-15         51          1573\n",
       "83485  2017-08-15         52          2255\n",
       "83486  2017-08-15         53           932\n",
       "83487  2017-08-15         54           802\n",
       "\n",
       "[83488 rows x 3 columns]"
      ]
     },
     "execution_count": 15,
     "metadata": {},
     "output_type": "execute_result"
    }
   ],
   "source": [
    "transactions_data"
   ]
  },
  {
   "cell_type": "code",
   "execution_count": 16,
   "metadata": {
    "execution": {
     "iopub.execute_input": "2025-09-12T17:45:25.782393Z",
     "iopub.status.busy": "2025-09-12T17:45:25.782025Z",
     "iopub.status.idle": "2025-09-12T17:45:25.794404Z",
     "shell.execute_reply": "2025-09-12T17:45:25.793560Z",
     "shell.execute_reply.started": "2025-09-12T17:45:25.782366Z"
    },
    "trusted": true
   },
   "outputs": [
    {
     "name": "stdout",
     "output_type": "stream",
     "text": [
      "date            0\n",
      "store_nbr       0\n",
      "transactions    0\n",
      "dtype: int64\n"
     ]
    }
   ],
   "source": [
    "print(transactions_data.isnull().sum())"
   ]
  },
  {
   "cell_type": "markdown",
   "metadata": {},
   "source": [
    "### Handling missing values"
   ]
  },
  {
   "cell_type": "code",
   "execution_count": 26,
   "metadata": {},
   "outputs": [],
   "source": [
    "oil_data['dcoilwtico'].ffill(inplace=True) \n",
    "oil_data['dcoilwtico'].bfill(inplace=True) "
   ]
  },
  {
   "cell_type": "code",
   "execution_count": 122,
   "metadata": {},
   "outputs": [
    {
     "name": "stdout",
     "output_type": "stream",
     "text": [
      "date          0\n",
      "dcoilwtico    0\n",
      "dtype: int64\n"
     ]
    }
   ],
   "source": [
    "print(oil_data.isnull().sum())"
   ]
  },
  {
   "cell_type": "markdown",
   "metadata": {},
   "source": [
    "### Holiday data"
   ]
  },
  {
   "cell_type": "code",
   "execution_count": 27,
   "metadata": {},
   "outputs": [],
   "source": [
    "# National Holidays (merged on date) \n",
    "national_holidays = holiday_data[holiday_data['locale'] == 'National'].copy()\n",
    "national_holidays['is_national_holiday'] = 1\n",
    "# Handle transferred days correctly\n",
    "national_holidays.loc[national_holidays['transferred'] == True, 'is_national_holiday'] = 0\n",
    "national_holidays = national_holidays[['date', 'is_national_holiday']]\n",
    "national_holidays.drop_duplicates(inplace=True)"
   ]
  },
  {
   "cell_type": "code",
   "execution_count": 28,
   "metadata": {},
   "outputs": [],
   "source": [
    "# Regional Holidays (merged on date and state) ---\n",
    "regional_holidays = holiday_data[holiday_data['locale'] == 'Regional'].copy()\n",
    "# Rename 'locale_name' to 'state' to allow for a correct merge\n",
    "regional_holidays.rename(columns={'locale_name': 'state'}, inplace=True)\n",
    "regional_holidays['is_regional_holiday'] = 1\n",
    "regional_holidays.loc[regional_holidays['transferred'] == True, 'is_regional_holiday'] = 0\n",
    "regional_holidays = regional_holidays[['date', 'state', 'is_regional_holiday']]\n",
    "regional_holidays.drop_duplicates(inplace=True)"
   ]
  },
  {
   "cell_type": "code",
   "execution_count": 29,
   "metadata": {},
   "outputs": [],
   "source": [
    "# Local Holidays (merged on date and city) ---\n",
    "local_holidays = holiday_data[holiday_data['locale'] == 'Local'].copy()\n",
    "# Rename 'locale_name' to 'city' to allow for a correct merge\n",
    "local_holidays.rename(columns={'locale_name': 'city'}, inplace=True)\n",
    "local_holidays['is_local_holiday'] = 1\n",
    "local_holidays.loc[local_holidays['transferred'] == True, 'is_local_holiday'] = 0\n",
    "local_holidays = local_holidays[['date', 'city', 'is_local_holiday']]\n",
    "local_holidays.drop_duplicates(inplace=True)"
   ]
  },
  {
   "cell_type": "markdown",
   "metadata": {},
   "source": [
    "### Merging all other dataframes into train and test data frames"
   ]
  },
  {
   "cell_type": "code",
   "execution_count": 30,
   "metadata": {
    "execution": {
     "iopub.execute_input": "2025-09-12T17:54:51.604193Z",
     "iopub.status.busy": "2025-09-12T17:54:51.603096Z",
     "iopub.status.idle": "2025-09-12T17:54:56.479176Z",
     "shell.execute_reply": "2025-09-12T17:54:56.478152Z",
     "shell.execute_reply.started": "2025-09-12T17:54:51.604146Z"
    },
    "trusted": true
   },
   "outputs": [],
   "source": [
    "train_data = pd.merge(train_data, stores_data, on='store_nbr', how='left')\n",
    "train_data = pd.merge(train_data, transactions_data, on=['date', 'store_nbr'], how='left')\n",
    "train_data = pd.merge(train_data, oil_data, on='date', how='left')\n",
    "train_data['transactions'].fillna(0, inplace=True)\n",
    "train_data['dcoilwtico'] = train_data['dcoilwtico'].ffill()"
   ]
  },
  {
   "cell_type": "code",
   "execution_count": 31,
   "metadata": {},
   "outputs": [],
   "source": [
    "train_data = pd.merge(train_data, national_holidays, on='date', how='left')\n",
    "train_data = pd.merge(train_data, regional_holidays, on=['date', 'state'], how='left')\n",
    "train_data = pd.merge(train_data, local_holidays, on=['date', 'city'], how='left')\n",
    "\n",
    "train_data['is_national_holiday'].fillna(0, inplace=True)\n",
    "train_data['is_regional_holiday'].fillna(0, inplace=True)\n",
    "train_data['is_local_holiday'].fillna(0, inplace=True)"
   ]
  },
  {
   "cell_type": "code",
   "execution_count": 160,
   "metadata": {
    "execution": {
     "iopub.execute_input": "2025-09-12T18:05:44.867857Z",
     "iopub.status.busy": "2025-09-12T18:05:44.867477Z",
     "iopub.status.idle": "2025-09-12T18:05:44.890668Z",
     "shell.execute_reply": "2025-09-12T18:05:44.889483Z",
     "shell.execute_reply.started": "2025-09-12T18:05:44.867828Z"
    },
    "trusted": true
   },
   "outputs": [
    {
     "data": {
      "text/html": [
       "<div>\n",
       "<style scoped>\n",
       "    .dataframe tbody tr th:only-of-type {\n",
       "        vertical-align: middle;\n",
       "    }\n",
       "\n",
       "    .dataframe tbody tr th {\n",
       "        vertical-align: top;\n",
       "    }\n",
       "\n",
       "    .dataframe thead th {\n",
       "        text-align: right;\n",
       "    }\n",
       "</style>\n",
       "<table border=\"1\" class=\"dataframe\">\n",
       "  <thead>\n",
       "    <tr style=\"text-align: right;\">\n",
       "      <th></th>\n",
       "      <th>id</th>\n",
       "      <th>date</th>\n",
       "      <th>store_nbr</th>\n",
       "      <th>family</th>\n",
       "      <th>sales</th>\n",
       "      <th>onpromotion</th>\n",
       "      <th>city</th>\n",
       "      <th>state</th>\n",
       "      <th>type</th>\n",
       "      <th>cluster</th>\n",
       "      <th>transactions</th>\n",
       "      <th>dcoilwtico</th>\n",
       "      <th>is_national_holiday</th>\n",
       "      <th>is_regional_holiday</th>\n",
       "      <th>is_local_holiday</th>\n",
       "    </tr>\n",
       "  </thead>\n",
       "  <tbody>\n",
       "    <tr>\n",
       "      <th>0</th>\n",
       "      <td>0</td>\n",
       "      <td>2013-01-01</td>\n",
       "      <td>1</td>\n",
       "      <td>AUTOMOTIVE</td>\n",
       "      <td>0.0</td>\n",
       "      <td>0</td>\n",
       "      <td>Quito</td>\n",
       "      <td>Pichincha</td>\n",
       "      <td>D</td>\n",
       "      <td>13</td>\n",
       "      <td>NaN</td>\n",
       "      <td>93.14</td>\n",
       "      <td>1.0</td>\n",
       "      <td>0.0</td>\n",
       "      <td>0.0</td>\n",
       "    </tr>\n",
       "    <tr>\n",
       "      <th>1</th>\n",
       "      <td>1</td>\n",
       "      <td>2013-01-01</td>\n",
       "      <td>1</td>\n",
       "      <td>BABY CARE</td>\n",
       "      <td>0.0</td>\n",
       "      <td>0</td>\n",
       "      <td>Quito</td>\n",
       "      <td>Pichincha</td>\n",
       "      <td>D</td>\n",
       "      <td>13</td>\n",
       "      <td>NaN</td>\n",
       "      <td>93.14</td>\n",
       "      <td>1.0</td>\n",
       "      <td>0.0</td>\n",
       "      <td>0.0</td>\n",
       "    </tr>\n",
       "    <tr>\n",
       "      <th>2</th>\n",
       "      <td>2</td>\n",
       "      <td>2013-01-01</td>\n",
       "      <td>1</td>\n",
       "      <td>BEAUTY</td>\n",
       "      <td>0.0</td>\n",
       "      <td>0</td>\n",
       "      <td>Quito</td>\n",
       "      <td>Pichincha</td>\n",
       "      <td>D</td>\n",
       "      <td>13</td>\n",
       "      <td>NaN</td>\n",
       "      <td>93.14</td>\n",
       "      <td>1.0</td>\n",
       "      <td>0.0</td>\n",
       "      <td>0.0</td>\n",
       "    </tr>\n",
       "    <tr>\n",
       "      <th>3</th>\n",
       "      <td>3</td>\n",
       "      <td>2013-01-01</td>\n",
       "      <td>1</td>\n",
       "      <td>BEVERAGES</td>\n",
       "      <td>0.0</td>\n",
       "      <td>0</td>\n",
       "      <td>Quito</td>\n",
       "      <td>Pichincha</td>\n",
       "      <td>D</td>\n",
       "      <td>13</td>\n",
       "      <td>NaN</td>\n",
       "      <td>93.14</td>\n",
       "      <td>1.0</td>\n",
       "      <td>0.0</td>\n",
       "      <td>0.0</td>\n",
       "    </tr>\n",
       "    <tr>\n",
       "      <th>4</th>\n",
       "      <td>4</td>\n",
       "      <td>2013-01-01</td>\n",
       "      <td>1</td>\n",
       "      <td>BOOKS</td>\n",
       "      <td>0.0</td>\n",
       "      <td>0</td>\n",
       "      <td>Quito</td>\n",
       "      <td>Pichincha</td>\n",
       "      <td>D</td>\n",
       "      <td>13</td>\n",
       "      <td>NaN</td>\n",
       "      <td>93.14</td>\n",
       "      <td>1.0</td>\n",
       "      <td>0.0</td>\n",
       "      <td>0.0</td>\n",
       "    </tr>\n",
       "    <tr>\n",
       "      <th>5</th>\n",
       "      <td>5</td>\n",
       "      <td>2013-01-01</td>\n",
       "      <td>1</td>\n",
       "      <td>BREAD/BAKERY</td>\n",
       "      <td>0.0</td>\n",
       "      <td>0</td>\n",
       "      <td>Quito</td>\n",
       "      <td>Pichincha</td>\n",
       "      <td>D</td>\n",
       "      <td>13</td>\n",
       "      <td>NaN</td>\n",
       "      <td>93.14</td>\n",
       "      <td>1.0</td>\n",
       "      <td>0.0</td>\n",
       "      <td>0.0</td>\n",
       "    </tr>\n",
       "    <tr>\n",
       "      <th>6</th>\n",
       "      <td>6</td>\n",
       "      <td>2013-01-01</td>\n",
       "      <td>1</td>\n",
       "      <td>CELEBRATION</td>\n",
       "      <td>0.0</td>\n",
       "      <td>0</td>\n",
       "      <td>Quito</td>\n",
       "      <td>Pichincha</td>\n",
       "      <td>D</td>\n",
       "      <td>13</td>\n",
       "      <td>NaN</td>\n",
       "      <td>93.14</td>\n",
       "      <td>1.0</td>\n",
       "      <td>0.0</td>\n",
       "      <td>0.0</td>\n",
       "    </tr>\n",
       "    <tr>\n",
       "      <th>7</th>\n",
       "      <td>7</td>\n",
       "      <td>2013-01-01</td>\n",
       "      <td>1</td>\n",
       "      <td>CLEANING</td>\n",
       "      <td>0.0</td>\n",
       "      <td>0</td>\n",
       "      <td>Quito</td>\n",
       "      <td>Pichincha</td>\n",
       "      <td>D</td>\n",
       "      <td>13</td>\n",
       "      <td>NaN</td>\n",
       "      <td>93.14</td>\n",
       "      <td>1.0</td>\n",
       "      <td>0.0</td>\n",
       "      <td>0.0</td>\n",
       "    </tr>\n",
       "    <tr>\n",
       "      <th>8</th>\n",
       "      <td>8</td>\n",
       "      <td>2013-01-01</td>\n",
       "      <td>1</td>\n",
       "      <td>DAIRY</td>\n",
       "      <td>0.0</td>\n",
       "      <td>0</td>\n",
       "      <td>Quito</td>\n",
       "      <td>Pichincha</td>\n",
       "      <td>D</td>\n",
       "      <td>13</td>\n",
       "      <td>NaN</td>\n",
       "      <td>93.14</td>\n",
       "      <td>1.0</td>\n",
       "      <td>0.0</td>\n",
       "      <td>0.0</td>\n",
       "    </tr>\n",
       "    <tr>\n",
       "      <th>9</th>\n",
       "      <td>9</td>\n",
       "      <td>2013-01-01</td>\n",
       "      <td>1</td>\n",
       "      <td>DELI</td>\n",
       "      <td>0.0</td>\n",
       "      <td>0</td>\n",
       "      <td>Quito</td>\n",
       "      <td>Pichincha</td>\n",
       "      <td>D</td>\n",
       "      <td>13</td>\n",
       "      <td>NaN</td>\n",
       "      <td>93.14</td>\n",
       "      <td>1.0</td>\n",
       "      <td>0.0</td>\n",
       "      <td>0.0</td>\n",
       "    </tr>\n",
       "  </tbody>\n",
       "</table>\n",
       "</div>"
      ],
      "text/plain": [
       "   id        date  store_nbr        family  sales  onpromotion   city  \\\n",
       "0   0  2013-01-01          1    AUTOMOTIVE    0.0            0  Quito   \n",
       "1   1  2013-01-01          1     BABY CARE    0.0            0  Quito   \n",
       "2   2  2013-01-01          1        BEAUTY    0.0            0  Quito   \n",
       "3   3  2013-01-01          1     BEVERAGES    0.0            0  Quito   \n",
       "4   4  2013-01-01          1         BOOKS    0.0            0  Quito   \n",
       "5   5  2013-01-01          1  BREAD/BAKERY    0.0            0  Quito   \n",
       "6   6  2013-01-01          1   CELEBRATION    0.0            0  Quito   \n",
       "7   7  2013-01-01          1      CLEANING    0.0            0  Quito   \n",
       "8   8  2013-01-01          1         DAIRY    0.0            0  Quito   \n",
       "9   9  2013-01-01          1          DELI    0.0            0  Quito   \n",
       "\n",
       "       state type  cluster  transactions  dcoilwtico  is_national_holiday  \\\n",
       "0  Pichincha    D       13           NaN       93.14                  1.0   \n",
       "1  Pichincha    D       13           NaN       93.14                  1.0   \n",
       "2  Pichincha    D       13           NaN       93.14                  1.0   \n",
       "3  Pichincha    D       13           NaN       93.14                  1.0   \n",
       "4  Pichincha    D       13           NaN       93.14                  1.0   \n",
       "5  Pichincha    D       13           NaN       93.14                  1.0   \n",
       "6  Pichincha    D       13           NaN       93.14                  1.0   \n",
       "7  Pichincha    D       13           NaN       93.14                  1.0   \n",
       "8  Pichincha    D       13           NaN       93.14                  1.0   \n",
       "9  Pichincha    D       13           NaN       93.14                  1.0   \n",
       "\n",
       "   is_regional_holiday  is_local_holiday  \n",
       "0                  0.0               0.0  \n",
       "1                  0.0               0.0  \n",
       "2                  0.0               0.0  \n",
       "3                  0.0               0.0  \n",
       "4                  0.0               0.0  \n",
       "5                  0.0               0.0  \n",
       "6                  0.0               0.0  \n",
       "7                  0.0               0.0  \n",
       "8                  0.0               0.0  \n",
       "9                  0.0               0.0  "
      ]
     },
     "execution_count": 160,
     "metadata": {},
     "output_type": "execute_result"
    }
   ],
   "source": [
    "train_data.head(10)"
   ]
  },
  {
   "cell_type": "code",
   "execution_count": 32,
   "metadata": {
    "execution": {
     "iopub.execute_input": "2025-09-12T17:56:24.128614Z",
     "iopub.status.busy": "2025-09-12T17:56:24.127744Z",
     "iopub.status.idle": "2025-09-12T17:56:24.189717Z",
     "shell.execute_reply": "2025-09-12T17:56:24.188617Z",
     "shell.execute_reply.started": "2025-09-12T17:56:24.128576Z"
    },
    "trusted": true
   },
   "outputs": [],
   "source": [
    "test_data = pd.merge(test_data, stores_data, on='store_nbr', how='left')\n",
    "test_data = pd.merge(test_data, transactions_data, on=['date', 'store_nbr'], how='left')\n",
    "test_data = pd.merge(test_data, oil_data, on='date', how='left')\n",
    "test_data['transactions'].fillna(0, inplace=True)\n",
    "test_data['dcoilwtico'] = test_data['dcoilwtico'].ffill()"
   ]
  },
  {
   "cell_type": "code",
   "execution_count": 33,
   "metadata": {},
   "outputs": [],
   "source": [
    "test_data = pd.merge(test_data, national_holidays, on='date', how='left')\n",
    "test_data = pd.merge(test_data, regional_holidays, on=['date', 'state'], how='left')\n",
    "test_data = pd.merge(test_data, local_holidays, on=['date', 'city'], how='left')\n",
    "\n",
    "test_data['is_national_holiday'].fillna(0, inplace=True)\n",
    "test_data['is_regional_holiday'].fillna(0, inplace=True)\n",
    "test_data['is_local_holiday'].fillna(0, inplace=True)"
   ]
  },
  {
   "cell_type": "code",
   "execution_count": 163,
   "metadata": {},
   "outputs": [
    {
     "data": {
      "text/plain": [
       "Index(['id', 'date', 'store_nbr', 'family', 'sales', 'onpromotion', 'city',\n",
       "       'state', 'type', 'cluster', 'transactions', 'dcoilwtico',\n",
       "       'is_national_holiday', 'is_regional_holiday', 'is_local_holiday'],\n",
       "      dtype='object')"
      ]
     },
     "execution_count": 163,
     "metadata": {},
     "output_type": "execute_result"
    }
   ],
   "source": [
    "train_data.columns"
   ]
  },
  {
   "cell_type": "code",
   "execution_count": 34,
   "metadata": {
    "execution": {
     "iopub.execute_input": "2025-09-12T18:15:50.492743Z",
     "iopub.status.busy": "2025-09-12T18:15:50.492445Z",
     "iopub.status.idle": "2025-09-12T18:15:50.498333Z",
     "shell.execute_reply": "2025-09-12T18:15:50.497208Z",
     "shell.execute_reply.started": "2025-09-12T18:15:50.492723Z"
    },
    "trusted": true
   },
   "outputs": [
    {
     "name": "stdout",
     "output_type": "stream",
     "text": [
      "(3000888, 15)\n",
      "(28512, 14)\n"
     ]
    }
   ],
   "source": [
    "print(train_data.shape)\n",
    "print(test_data.shape)"
   ]
  },
  {
   "cell_type": "markdown",
   "metadata": {},
   "source": [
    "### Basic date based features "
   ]
  },
  {
   "cell_type": "code",
   "execution_count": 35,
   "metadata": {
    "trusted": true
   },
   "outputs": [],
   "source": [
    "train_data[\"date\"] = pd.to_datetime(train_data[\"date\"])\n",
    "test_data[\"date\"] = pd.to_datetime(test_data[\"date\"])"
   ]
  },
  {
   "cell_type": "code",
   "execution_count": 36,
   "metadata": {},
   "outputs": [],
   "source": [
    "train_data['year'] = train_data['date'].dt.year\n",
    "train_data['dayofyear'] = train_data['date'].dt.dayofyear\n",
    "train_data['quarter'] = train_data['date'].dt.quarter\n",
    "train_data['is_weekend'] = (train_data['date'].dt.dayofweek >= 5).astype(int)\n",
    "\n",
    "test_data['year'] = test_data['date'].dt.year\n",
    "test_data['dayofyear'] = test_data['date'].dt.dayofyear\n",
    "test_data['quarter'] = test_data['date'].dt.quarter\n",
    "test_data['is_weekend'] = (test_data['date'].dt.dayofweek >= 5).astype(int)\n"
   ]
  },
  {
   "cell_type": "markdown",
   "metadata": {},
   "source": [
    "### Cyclic features with Sin & Cos transformation"
   ]
  },
  {
   "cell_type": "code",
   "execution_count": 37,
   "metadata": {},
   "outputs": [],
   "source": [
    "train_data['month_sin'] = np.sin(2 * np.pi * train_data['date'].dt.month / 12)\n",
    "train_data['month_cos'] = np.cos(2 * np.pi * train_data['date'].dt.month / 12)\n",
    "train_data['dayofweek_sin'] = np.sin(2 * np.pi * train_data['date'].dt.dayofweek / 7)\n",
    "train_data['dayofweek_cos'] = np.cos(2 * np.pi * train_data['date'].dt.dayofweek / 7)\n",
    "\n",
    "test_data['month_sin'] = np.sin(2 * np.pi * test_data['date'].dt.month / 12)\n",
    "test_data['month_cos'] = np.cos(2 * np.pi * test_data['date'].dt.month / 12)\n",
    "test_data['dayofweek_sin'] = np.sin(2 * np.pi * test_data['date'].dt.dayofweek / 7)\n",
    "test_data['dayofweek_cos'] = np.cos(2 * np.pi * test_data['date'].dt.dayofweek / 7)"
   ]
  },
  {
   "cell_type": "markdown",
   "metadata": {},
   "source": [
    "#### Holiday & Special Event Features"
   ]
  },
  {
   "cell_type": "code",
   "execution_count": 38,
   "metadata": {},
   "outputs": [],
   "source": [
    "train_data['is_holiday'] = train_data[['is_national_holiday', 'is_regional_holiday', 'is_local_holiday']].max(axis=1)\n",
    "test_data['is_holiday'] = test_data[['is_national_holiday', 'is_regional_holiday', 'is_local_holiday']].max(axis=1)"
   ]
  },
  {
   "cell_type": "markdown",
   "metadata": {},
   "source": [
    "### Payday Feature"
   ]
  },
  {
   "cell_type": "code",
   "execution_count": 39,
   "metadata": {},
   "outputs": [],
   "source": [
    "# Wages are paid on the 15th and last day of the month\n",
    "train_data['is_payday'] = np.where(\n",
    "    (train_data['date'].dt.day == 15) | (train_data['date'].dt.is_month_end),\n",
    "    1, 0\n",
    ")\n",
    "\n",
    "test_data['is_payday'] = np.where(\n",
    "    (test_data['date'].dt.day == 15) | (test_data['date'].dt.is_month_end),\n",
    "    1, 0\n",
    ")"
   ]
  },
  {
   "cell_type": "markdown",
   "metadata": {},
   "source": [
    "### Earthquake feature"
   ]
  },
  {
   "cell_type": "code",
   "execution_count": 40,
   "metadata": {},
   "outputs": [],
   "source": [
    "# Creating a flag for few week after earthquake event in 2016\n",
    "earthquake_start = pd.to_datetime('2016-04-16')\n",
    "earthquake_end = pd.to_datetime('2016-05-31')\n",
    "train_data['post_earthquake_effect'] = np.where(\n",
    "    (train_data['date'] >= earthquake_start) & (train_data['date'] <= earthquake_end),\n",
    "    1, 0\n",
    ")\n",
    "test_data['post_earthquake_effect'] = np.where(\n",
    "    (test_data['date'] >= earthquake_start) & (test_data['date'] <= earthquake_end),\n",
    "    1, 0\n",
    ")"
   ]
  },
  {
   "cell_type": "code",
   "execution_count": 41,
   "metadata": {},
   "outputs": [
    {
     "name": "stdout",
     "output_type": "stream",
     "text": [
      "(3000888, 26)\n",
      "(28512, 25)\n"
     ]
    }
   ],
   "source": [
    "print(train_data.shape)\n",
    "print(test_data.shape)"
   ]
  },
  {
   "cell_type": "code",
   "execution_count": 206,
   "metadata": {},
   "outputs": [
    {
     "name": "stdout",
     "output_type": "stream",
     "text": [
      "id                        0\n",
      "date                      0\n",
      "store_nbr                 0\n",
      "family                    0\n",
      "sales                     0\n",
      "onpromotion               0\n",
      "city                      0\n",
      "state                     0\n",
      "type                      0\n",
      "cluster                   0\n",
      "transactions              0\n",
      "dcoilwtico                0\n",
      "is_national_holiday       0\n",
      "is_regional_holiday       0\n",
      "is_local_holiday          0\n",
      "year                      0\n",
      "dayofyear                 0\n",
      "quarter                   0\n",
      "is_weekend                0\n",
      "month_sin                 0\n",
      "month_cos                 0\n",
      "dayofweek_sin             0\n",
      "dayofweek_cos             0\n",
      "is_holiday                0\n",
      "is_payday                 0\n",
      "post_earthquake_effect    0\n",
      "dtype: int64\n"
     ]
    }
   ],
   "source": [
    "print(train_data.isnull().sum())"
   ]
  },
  {
   "cell_type": "code",
   "execution_count": 209,
   "metadata": {},
   "outputs": [
    {
     "name": "stdout",
     "output_type": "stream",
     "text": [
      "id                            0\n",
      "date                          0\n",
      "store_nbr                     0\n",
      "family                        0\n",
      "onpromotion                   0\n",
      "city                          0\n",
      "state                         0\n",
      "type                          0\n",
      "cluster                       0\n",
      "transactions                  0\n",
      "dcoilwtico                    0\n",
      "is_national_holiday           0\n",
      "is_regional_holiday           0\n",
      "is_local_holiday              0\n",
      "year                          0\n",
      "dayofyear                     0\n",
      "quarter                       0\n",
      "is_weekend                    0\n",
      "month_sin                     0\n",
      "month_cos                     0\n",
      "dayofweek_sin                 0\n",
      "dayofweek_cos                 0\n",
      "is_holiday                    0\n",
      "is_payday                     0\n",
      "post_earthquake_effect        0\n",
      "source                        0\n",
      "sales                     28512\n",
      "dtype: int64\n"
     ]
    }
   ],
   "source": [
    "print(test_data.isnull().sum())"
   ]
  },
  {
   "cell_type": "markdown",
   "metadata": {},
   "source": [
    "### Lag features"
   ]
  },
  {
   "cell_type": "markdown",
   "metadata": {},
   "source": [
    "#### The test data is for a 16-day period (from Aug 16 to Aug 31).So we cannot create any lag features lower than 16 days since those data is not available "
   ]
  },
  {
   "cell_type": "markdown",
   "metadata": {},
   "source": [
    "#### Before creating any lag or rolling features we need to merge the train_data and test_data "
   ]
  },
  {
   "cell_type": "code",
   "execution_count": 69,
   "metadata": {},
   "outputs": [],
   "source": [
    "# Add an identifier column to distinguish between train and test sets\n",
    "train_data['source'] = 'train'\n",
    "test_data['source'] = 'test'\n",
    "test_data['sales'] = np.nan\n",
    "df = pd.concat([train_data, test_data], ignore_index=True, sort=False)"
   ]
  },
  {
   "cell_type": "code",
   "execution_count": 70,
   "metadata": {},
   "outputs": [],
   "source": [
    "lags = [16, 21, 28]\n",
    "for lag in lags:\n",
    "    df[f'sales_lag_{lag}'] = df.groupby(['store_nbr', 'family'])['sales'].shift(lag)\n",
    "\n",
    "windows = [7, 14, 28]\n",
    "for window in windows:\n",
    "    rolling_series_mean = df.groupby(['store_nbr', 'family'])[f'sales_lag_16'].rolling(window).mean()\n",
    "    rolling_series_std = df.groupby(['store_nbr', 'family'])[f'sales_lag_16'].rolling(window).std()\n",
    "\n",
    "    df[f'sales_rolling_mean_{window}'] = rolling_series_mean.reset_index(level=[0,1], drop=True)\n",
    "    df[f'sales_rolling_std_{window}'] = rolling_series_std.reset_index(level=[0,1], drop=True)\n",
    "\n",
    "\n"
   ]
  },
  {
   "cell_type": "code",
   "execution_count": 71,
   "metadata": {},
   "outputs": [
    {
     "data": {
      "text/plain": [
       "(3029400, 36)"
      ]
     },
     "execution_count": 71,
     "metadata": {},
     "output_type": "execute_result"
    }
   ],
   "source": [
    "df.shape"
   ]
  },
  {
   "cell_type": "code",
   "execution_count": 45,
   "metadata": {},
   "outputs": [
    {
     "name": "stdout",
     "output_type": "stream",
     "text": [
      "id                            0\n",
      "date                          0\n",
      "store_nbr                     0\n",
      "family                        0\n",
      "sales                     28512\n",
      "onpromotion                   0\n",
      "city                          0\n",
      "state                         0\n",
      "type                          0\n",
      "cluster                       0\n",
      "transactions                  0\n",
      "dcoilwtico                    0\n",
      "is_national_holiday           0\n",
      "is_regional_holiday           0\n",
      "is_local_holiday              0\n",
      "year                          0\n",
      "dayofyear                     0\n",
      "quarter                       0\n",
      "is_weekend                    0\n",
      "month_sin                     0\n",
      "month_cos                     0\n",
      "dayofweek_sin                 0\n",
      "dayofweek_cos                 0\n",
      "is_holiday                    0\n",
      "is_payday                     0\n",
      "post_earthquake_effect        0\n",
      "source                        0\n",
      "sales_lag_16              28512\n",
      "sales_lag_21              37422\n",
      "sales_lag_28              49896\n",
      "sales_rolling_mean_7      39204\n",
      "sales_rolling_std_7       39204\n",
      "sales_rolling_mean_14     51678\n",
      "sales_rolling_std_14      51678\n",
      "sales_rolling_mean_28     76626\n",
      "sales_rolling_std_28      76626\n",
      "dtype: int64\n"
     ]
    }
   ],
   "source": [
    "print(df.isnull().sum())"
   ]
  },
  {
   "cell_type": "code",
   "execution_count": 72,
   "metadata": {},
   "outputs": [],
   "source": [
    "df.fillna(0, inplace=True)"
   ]
  },
  {
   "cell_type": "code",
   "execution_count": 73,
   "metadata": {},
   "outputs": [
    {
     "name": "stdout",
     "output_type": "stream",
     "text": [
      "id                        0\n",
      "date                      0\n",
      "store_nbr                 0\n",
      "family                    0\n",
      "sales                     0\n",
      "onpromotion               0\n",
      "city                      0\n",
      "state                     0\n",
      "type                      0\n",
      "cluster                   0\n",
      "transactions              0\n",
      "dcoilwtico                0\n",
      "is_national_holiday       0\n",
      "is_regional_holiday       0\n",
      "is_local_holiday          0\n",
      "year                      0\n",
      "dayofyear                 0\n",
      "quarter                   0\n",
      "is_weekend                0\n",
      "month_sin                 0\n",
      "month_cos                 0\n",
      "dayofweek_sin             0\n",
      "dayofweek_cos             0\n",
      "is_holiday                0\n",
      "is_payday                 0\n",
      "post_earthquake_effect    0\n",
      "source                    0\n",
      "sales_lag_16              0\n",
      "sales_lag_21              0\n",
      "sales_lag_28              0\n",
      "sales_rolling_mean_7      0\n",
      "sales_rolling_std_7       0\n",
      "sales_rolling_mean_14     0\n",
      "sales_rolling_std_14      0\n",
      "sales_rolling_mean_28     0\n",
      "sales_rolling_std_28      0\n",
      "dtype: int64\n"
     ]
    }
   ],
   "source": [
    "print(df.isnull().sum())"
   ]
  },
  {
   "cell_type": "markdown",
   "metadata": {},
   "source": [
    "### Handling categorical features"
   ]
  },
  {
   "cell_type": "code",
   "execution_count": 104,
   "metadata": {},
   "outputs": [
    {
     "data": {
      "text/plain": [
       "id                                 int64\n",
       "date                      datetime64[ns]\n",
       "store_nbr                          int64\n",
       "family                            object\n",
       "sales                            float64\n",
       "onpromotion                        int64\n",
       "city                              object\n",
       "state                             object\n",
       "store_type                        object\n",
       "cluster                            int64\n",
       "transactions                     float64\n",
       "dcoilwtico                       float64\n",
       "year                               int32\n",
       "dayofyear                          int32\n",
       "quarter                            int32\n",
       "is_weekend                         int32\n",
       "month_sin                        float64\n",
       "month_cos                        float64\n",
       "dayofweek_sin                    float64\n",
       "dayofweek_cos                    float64\n",
       "is_holiday_day                     int32\n",
       "is_work_day                        int32\n",
       "is_payday                          int32\n",
       "post_earthquake_effect             int32\n",
       "source                            object\n",
       "sales_lag_16                     float64\n",
       "sales_lag_21                     float64\n",
       "sales_lag_28                     float64\n",
       "sales_rolling_mean_7             float64\n",
       "sales_rolling_std_7              float64\n",
       "sales_rolling_mean_14            float64\n",
       "sales_rolling_std_14             float64\n",
       "sales_rolling_mean_28            float64\n",
       "sales_rolling_std_28             float64\n",
       "dtype: object"
      ]
     },
     "execution_count": 104,
     "metadata": {},
     "output_type": "execute_result"
    }
   ],
   "source": [
    "df.dtypes"
   ]
  },
  {
   "cell_type": "code",
   "execution_count": 106,
   "metadata": {},
   "outputs": [
    {
     "data": {
      "text/plain": [
       "array(['AUTOMOTIVE', 'BABY CARE', 'BEAUTY', 'BEVERAGES', 'BOOKS',\n",
       "       'BREAD/BAKERY', 'CELEBRATION', 'CLEANING', 'DAIRY', 'DELI', 'EGGS',\n",
       "       'FROZEN FOODS', 'GROCERY I', 'GROCERY II', 'HARDWARE',\n",
       "       'HOME AND KITCHEN I', 'HOME AND KITCHEN II', 'HOME APPLIANCES',\n",
       "       'HOME CARE', 'LADIESWEAR', 'LAWN AND GARDEN', 'LINGERIE',\n",
       "       'LIQUOR,WINE,BEER', 'MAGAZINES', 'MEATS', 'PERSONAL CARE',\n",
       "       'PET SUPPLIES', 'PLAYERS AND ELECTRONICS', 'POULTRY',\n",
       "       'PREPARED FOODS', 'PRODUCE', 'SCHOOL AND OFFICE SUPPLIES',\n",
       "       'SEAFOOD'], dtype=object)"
      ]
     },
     "execution_count": 106,
     "metadata": {},
     "output_type": "execute_result"
    }
   ],
   "source": [
    "df[\"family\"].unique()"
   ]
  },
  {
   "cell_type": "code",
   "execution_count": 107,
   "metadata": {},
   "outputs": [
    {
     "data": {
      "text/plain": [
       "array(['Quito', 'Cayambe', 'Latacunga', 'Riobamba', 'Ibarra',\n",
       "       'Santo Domingo', 'Guaranda', 'Puyo', 'Ambato', 'Guayaquil',\n",
       "       'Salinas', 'Daule', 'Babahoyo', 'Quevedo', 'Playas', 'Libertad',\n",
       "       'Cuenca', 'Loja', 'Machala', 'Esmeraldas', 'Manta', 'El Carmen'],\n",
       "      dtype=object)"
      ]
     },
     "execution_count": 107,
     "metadata": {},
     "output_type": "execute_result"
    }
   ],
   "source": [
    "df[\"city\"].unique()"
   ]
  },
  {
   "cell_type": "code",
   "execution_count": 105,
   "metadata": {},
   "outputs": [
    {
     "data": {
      "text/plain": [
       "array(['Pichincha', 'Cotopaxi', 'Chimborazo', 'Imbabura',\n",
       "       'Santo Domingo de los Tsachilas', 'Bolivar', 'Pastaza',\n",
       "       'Tungurahua', 'Guayas', 'Santa Elena', 'Los Rios', 'Azuay', 'Loja',\n",
       "       'El Oro', 'Esmeraldas', 'Manabi'], dtype=object)"
      ]
     },
     "execution_count": 105,
     "metadata": {},
     "output_type": "execute_result"
    }
   ],
   "source": [
    "df[\"state\"].unique()"
   ]
  },
  {
   "cell_type": "code",
   "execution_count": 108,
   "metadata": {},
   "outputs": [
    {
     "data": {
      "text/plain": [
       "array(['D', 'C', 'B', 'E', 'A'], dtype=object)"
      ]
     },
     "execution_count": 108,
     "metadata": {},
     "output_type": "execute_result"
    }
   ],
   "source": [
    "df[\"store_type\"].unique()"
   ]
  },
  {
   "cell_type": "code",
   "execution_count": 152,
   "metadata": {},
   "outputs": [
    {
     "data": {
      "text/plain": [
       "Index(['id', 'date', 'store_nbr', 'family', 'sales', 'onpromotion', 'city',\n",
       "       'state', 'type', 'cluster', 'transactions', 'dcoilwtico',\n",
       "       'is_national_holiday', 'is_regional_holiday', 'is_local_holiday',\n",
       "       'year', 'dayofyear', 'quarter', 'is_weekend', 'month_sin', 'month_cos',\n",
       "       'dayofweek_sin', 'dayofweek_cos', 'is_holiday', 'is_payday',\n",
       "       'post_earthquake_effect', 'source', 'sales_lag_16', 'sales_lag_21',\n",
       "       'sales_lag_28', 'sales_rolling_mean_7', 'sales_rolling_std_7',\n",
       "       'sales_rolling_mean_14', 'sales_rolling_std_14',\n",
       "       'sales_rolling_mean_28', 'sales_rolling_std_28'],\n",
       "      dtype='object')"
      ]
     },
     "execution_count": 152,
     "metadata": {},
     "output_type": "execute_result"
    }
   ],
   "source": [
    "df.columns"
   ]
  },
  {
   "cell_type": "markdown",
   "metadata": {},
   "source": [
    "#### Converting columns to 'category' dtype"
   ]
  },
  {
   "cell_type": "code",
   "execution_count": 74,
   "metadata": {},
   "outputs": [],
   "source": [
    "categorical_cols = [\n",
    "    'store_nbr', \n",
    "    'family', \n",
    "    'city', \n",
    "    'state', \n",
    "    'type', \n",
    "    'cluster'\n",
    "]\n",
    "for col in categorical_cols:\n",
    "    df[col] = df[col].astype('category')"
   ]
  },
  {
   "cell_type": "code",
   "execution_count": null,
   "metadata": {},
   "outputs": [
    {
     "name": "stdout",
     "output_type": "stream",
     "text": [
      "New shape after one-hot encoding: (3029400, 171)\n"
     ]
    }
   ],
   "source": [
    "# categorical_cols = [\n",
    "#     'store_nbr', \n",
    "#     'family', \n",
    "#     'city', \n",
    "#     'state', \n",
    "#     'type', \n",
    "#     'cluster'\n",
    "# ]\n",
    "\n",
    "# df_ohe = pd.get_dummies(df, columns=categorical_cols, drop_first=True)\n",
    "\n",
    "# print(f\"New shape after one-hot encoding: {df_ohe.shape}\")"
   ]
  },
  {
   "cell_type": "markdown",
   "metadata": {},
   "source": [
    "### Separation of data again to train and test"
   ]
  },
  {
   "cell_type": "code",
   "execution_count": 75,
   "metadata": {},
   "outputs": [],
   "source": [
    "train_final = df[df['source'] == 'train'].copy()\n",
    "test_final = df[df['source'] == 'test'].copy()\n",
    "\n",
    "# Drop the helper columns\n",
    "train_final.drop(columns=['source'], inplace=True)\n",
    "test_final.drop(columns=['source'], inplace=True)\n",
    "test_final.drop(columns=['sales'], inplace=True, errors='ignore')\n"
   ]
  },
  {
   "cell_type": "code",
   "execution_count": null,
   "metadata": {},
   "outputs": [],
   "source": [
    "# train_final_ohe = df_ohe[df_ohe['source'] == 'train'].copy()\n",
    "# test_final_ohe = df_ohe[df_ohe['source'] == 'test'].copy()\n",
    "\n",
    "# # Drop the helper columns\n",
    "# train_final_ohe.drop(columns=['source'], inplace=True)\n",
    "# test_final_ohe.drop(columns=['source'], inplace=True)\n",
    "# test_final_ohe.drop(columns=['sales'], inplace=True, errors='ignore')\n"
   ]
  },
  {
   "cell_type": "code",
   "execution_count": 49,
   "metadata": {},
   "outputs": [
    {
     "name": "stdout",
     "output_type": "stream",
     "text": [
      "id              0\n",
      "date            0\n",
      "sales           0\n",
      "onpromotion     0\n",
      "transactions    0\n",
      "               ..\n",
      "cluster_13      0\n",
      "cluster_14      0\n",
      "cluster_15      0\n",
      "cluster_16      0\n",
      "cluster_17      0\n",
      "Length: 170, dtype: int64\n"
     ]
    }
   ],
   "source": [
    "print(train_final_ohe.isnull().sum())\n"
   ]
  },
  {
   "cell_type": "code",
   "execution_count": 50,
   "metadata": {},
   "outputs": [
    {
     "data": {
      "text/plain": [
       "id              0\n",
       "date            0\n",
       "onpromotion     0\n",
       "transactions    0\n",
       "dcoilwtico      0\n",
       "               ..\n",
       "cluster_13      0\n",
       "cluster_14      0\n",
       "cluster_15      0\n",
       "cluster_16      0\n",
       "cluster_17      0\n",
       "Length: 169, dtype: int64"
      ]
     },
     "execution_count": 50,
     "metadata": {},
     "output_type": "execute_result"
    }
   ],
   "source": [
    "test_final_ohe.isnull().sum()"
   ]
  },
  {
   "cell_type": "code",
   "execution_count": 77,
   "metadata": {},
   "outputs": [
    {
     "name": "stdout",
     "output_type": "stream",
     "text": [
      "(3000888, 35)\n",
      "(28512, 34)\n"
     ]
    }
   ],
   "source": [
    "print(train_final.shape)\n",
    "print(test_final.shape)"
   ]
  },
  {
   "cell_type": "markdown",
   "metadata": {},
   "source": [
    "### EDA"
   ]
  },
  {
   "cell_type": "code",
   "execution_count": 53,
   "metadata": {},
   "outputs": [],
   "source": [
    "import matplotlib.pyplot as plt\n",
    "import seaborn as sns"
   ]
  },
  {
   "cell_type": "code",
   "execution_count": null,
   "metadata": {},
   "outputs": [
    {
     "data": {
      "image/png": "[encoded data removed]",
      "text/plain": [
       "<Figure size 1080x432 with 1 Axes>"
      ]
     },
     "metadata": {
      "needs_background": "light"
     },
     "output_type": "display_data"
    }
   ],
   "source": [
    "# Total Sales Over Time\n",
    "plt.figure(figsize=(15, 6))\n",
    "train_final.groupby('date')['sales'].sum().plot()\n",
    "plt.title('Total Sales Across All Stores Over Time')\n",
    "plt.xlabel('Date')\n",
    "plt.ylabel('Total Sales')\n",
    "plt.grid(True)\n",
    "plt.show()"
   ]
  },
  {
   "cell_type": "markdown",
   "metadata": {},
   "source": [
    "There is a clear increasing trend"
   ]
  },
  {
   "cell_type": "code",
   "execution_count": null,
   "metadata": {},
   "outputs": [
    {
     "data": {
      "image/png": "[encoded data removed]",
      "text/plain": [
       "<Figure size 720x432 with 1 Axes>"
      ]
     },
     "metadata": {
      "needs_background": "light"
     },
     "output_type": "display_data"
    }
   ],
   "source": [
    "# Average Sales by Day of the Week\n",
    "plt.figure(figsize=(10, 6))\n",
    "train_final['day_name'] = train_final['date'].dt.day_name()\n",
    "sns.boxplot(data=train_final, x='day_name', y='sales', order=['Monday', 'Tuesday', 'Wednesday', 'Thursday', 'Friday', 'Saturday', 'Sunday'])\n",
    "plt.title('Sales Distribution by Day of the Week')\n",
    "plt.xlabel('Day of the Week')\n",
    "plt.ylabel('Sales')\n",
    "plt.show()"
   ]
  },
  {
   "cell_type": "markdown",
   "metadata": {},
   "source": [
    "Sales are higher in Monday."
   ]
  },
  {
   "cell_type": "code",
   "execution_count": 223,
   "metadata": {},
   "outputs": [
    {
     "name": "stderr",
     "output_type": "stream",
     "text": [
      "<ipython-input-223-6bea6646dbdf>:3: FutureWarning: The default of observed=False is deprecated and will be changed to True in a future version of pandas. Pass observed=False to retain current behavior or observed=True to adopt the future default and silence this warning.\n",
      "  family_sales = train_final.groupby('family')['sales'].sum().sort_values(ascending=False)\n"
     ]
    },
    {
     "data": {
      "image/png": "[encoded data removed]",
      "text/plain": [
       "<Figure size 1080x576 with 1 Axes>"
      ]
     },
     "metadata": {
      "needs_background": "light"
     },
     "output_type": "display_data"
    }
   ],
   "source": [
    "# Sales by Product Family\n",
    "plt.figure(figsize=(15, 8))\n",
    "family_sales = train_final.groupby('family')['sales'].sum().sort_values(ascending=False)\n",
    "family_sales.plot(kind='bar')\n",
    "plt.title('Total Sales by Product Family')\n",
    "plt.xlabel('Product Family')\n",
    "plt.ylabel('Total Sales')\n",
    "plt.xticks(rotation=90)\n",
    "plt.show()"
   ]
  },
  {
   "cell_type": "markdown",
   "metadata": {},
   "source": [
    "GROCERY,BEVERAGES,PRODUCE,CLEANING and DIARY are best selling product families."
   ]
  },
  {
   "cell_type": "code",
   "execution_count": 54,
   "metadata": {},
   "outputs": [
    {
     "data": {
      "image/png": "[encoded data removed]",
      "text/plain": [
       "<Figure size 864x720 with 2 Axes>"
      ]
     },
     "metadata": {
      "needs_background": "light"
     },
     "output_type": "display_data"
    }
   ],
   "source": [
    "# Correlation Heatmap\n",
    "numeric_cols = train_final_ohe.select_dtypes(include=np.number).columns.tolist()\n",
    "correlation_matrix = train_final_ohe[numeric_cols].corr()\n",
    "\n",
    "plt.figure(figsize=(12, 10))\n",
    "sns.heatmap(correlation_matrix[['sales']].sort_values(by='sales', ascending=False), annot=True, cmap='viridis')\n",
    "plt.title('Correlation of Numeric Features with Sales')\n",
    "plt.show()"
   ]
  },
  {
   "cell_type": "markdown",
   "metadata": {},
   "source": [
    "The lag and rolling features created are higly correlated with the target."
   ]
  },
  {
   "cell_type": "code",
   "execution_count": 235,
   "metadata": {},
   "outputs": [
    {
     "data": {
      "image/png": "[encoded data removed]",
      "text/plain": [
       "<Figure size 720x576 with 2 Axes>"
      ]
     },
     "metadata": {
      "needs_background": "light"
     },
     "output_type": "display_data"
    }
   ],
   "source": [
    "#  Time Series Heatmap\n",
    "import pandas as pd\n",
    "import seaborn as sns\n",
    "import matplotlib.pyplot as plt\n",
    "\n",
    "heatmap_data = pd.pivot_table(train_final, values='sales', \n",
    "                              index=train_final['date'].dt.month, \n",
    "                              columns=train_final['date'].dt.year)\n",
    "\n",
    "# Plot the heatmap\n",
    "plt.figure(figsize=(10, 8))\n",
    "sns.heatmap(heatmap_data, cmap='viridis', annot=True, fmt=\".0f\")\n",
    "plt.title('Sales Heatmap by Year and Month')\n",
    "plt.xlabel('Year')\n",
    "plt.ylabel('Month')\n",
    "plt.show()"
   ]
  },
  {
   "cell_type": "markdown",
   "metadata": {},
   "source": [
    "Sales are getting higher month by month, most of the time.This confirms strong yearly seasonality.\n",
    "Sales of the year get higher as we move from left (2013) to right (2017).This confirms the overall upward trend in sales over time."
   ]
  },
  {
   "cell_type": "code",
   "execution_count": 236,
   "metadata": {},
   "outputs": [
    {
     "data": {
      "image/png": "[encoded data removed]",
      "text/plain": [
       "<Figure size 1080x432 with 1 Axes>"
      ]
     },
     "metadata": {
      "needs_background": "light"
     },
     "output_type": "display_data"
    }
   ],
   "source": [
    "# Average Sales by Day of Month\n",
    "plt.figure(figsize=(15, 6))\n",
    "# Group by the day of the month and find the average sales\n",
    "train_final.groupby(train_final['date'].dt.day)['sales'].mean().plot(kind='bar')\n",
    "plt.title('Average Sales by Day of the Month')\n",
    "plt.xlabel('Day of Month')\n",
    "plt.ylabel('Average Sales')\n",
    "plt.grid(axis='y', linestyle='--', alpha=0.7)\n",
    "plt.show()"
   ]
  },
  {
   "cell_type": "markdown",
   "metadata": {},
   "source": [
    "There are spikes in sales right around the 15th and again at the end of the month."
   ]
  },
  {
   "cell_type": "code",
   "execution_count": 238,
   "metadata": {},
   "outputs": [
    {
     "data": {
      "image/png": "[encoded data removed]",
      "text/plain": [
       "<Figure size 720x432 with 1 Axes>"
      ]
     },
     "metadata": {
      "needs_background": "light"
     },
     "output_type": "display_data"
    }
   ],
   "source": [
    "# Sales and onpromotion\n",
    "# Group data by date to get daily totals\n",
    "daily_data = train_final.groupby('date').agg({'sales': 'sum', 'onpromotion': 'sum'}).reset_index()\n",
    "\n",
    "plt.figure(figsize=(10, 6))\n",
    "sns.scatterplot(data=daily_data, x='onpromotion', y='sales')\n",
    "plt.title('Total Daily Sales vs. Total Daily Promotions')\n",
    "plt.xlabel('Number of Items on Promotion')\n",
    "plt.ylabel('Total Sales')\n",
    "plt.grid(True)\n",
    "plt.show()"
   ]
  },
  {
   "cell_type": "markdown",
   "metadata": {},
   "source": [
    "Days with a higher number of promotions also have higher sales. This confirms that the onpromotion feature is a good predictor."
   ]
  },
  {
   "cell_type": "code",
   "execution_count": 257,
   "metadata": {},
   "outputs": [
    {
     "data": {
      "image/png": "[encoded data removed]",
      "text/plain": [
       "<Figure size 720x432 with 1 Axes>"
      ]
     },
     "metadata": {
      "needs_background": "light"
     },
     "output_type": "display_data"
    }
   ],
   "source": [
    "# Distribution of Sales\n",
    "plt.figure(figsize=(10, 6))\n",
    "sns.histplot(train_final['sales'], bins=50, kde=True)\n",
    "plt.title('Distribution of Sales in train_final')\n",
    "plt.xlabel('Sales')\n",
    "plt.ylabel('Frequency')\n",
    "plt.show()"
   ]
  },
  {
   "cell_type": "code",
   "execution_count": 258,
   "metadata": {},
   "outputs": [
    {
     "name": "stdout",
     "output_type": "stream",
     "text": [
      "sales\n",
      "0.000       939130\n",
      "1.000       115291\n",
      "2.000        85959\n",
      "3.000        68575\n",
      "4.000        57846\n",
      "             ...  \n",
      "116.541          1\n",
      "363.533          1\n",
      "141.322          1\n",
      "409.879          1\n",
      "2419.729         1\n",
      "Name: count, Length: 379610, dtype: int64\n"
     ]
    }
   ],
   "source": [
    "print(train_final['sales'].value_counts())"
   ]
  },
  {
   "cell_type": "markdown",
   "metadata": {},
   "source": [
    "### Model Training and Validation\n"
   ]
  },
  {
   "cell_type": "code",
   "execution_count": 241,
   "metadata": {},
   "outputs": [
    {
     "data": {
      "text/plain": [
       "Index(['id', 'date', 'store_nbr', 'family', 'sales', 'onpromotion', 'city',\n",
       "       'state', 'type', 'cluster', 'transactions', 'dcoilwtico',\n",
       "       'is_national_holiday', 'is_regional_holiday', 'is_local_holiday',\n",
       "       'year', 'dayofyear', 'quarter', 'is_weekend', 'month_sin', 'month_cos',\n",
       "       'dayofweek_sin', 'dayofweek_cos', 'is_holiday', 'is_payday',\n",
       "       'post_earthquake_effect', 'sales_lag_16', 'sales_lag_21',\n",
       "       'sales_lag_28', 'sales_rolling_mean_7', 'sales_rolling_std_7',\n",
       "       'sales_rolling_mean_14', 'sales_rolling_std_14',\n",
       "       'sales_rolling_mean_28', 'sales_rolling_std_28'],\n",
       "      dtype='object')"
      ]
     },
     "execution_count": 241,
     "metadata": {},
     "output_type": "execute_result"
    }
   ],
   "source": [
    "train_final.columns"
   ]
  },
  {
   "cell_type": "code",
   "execution_count": 78,
   "metadata": {},
   "outputs": [],
   "source": [
    "TARGET = 'sales'\n",
    "## For optimizing RMSLE, we predict the log of sales.\n",
    "y = np.log1p(train_final[TARGET])\n",
    "\n",
    "features = train_final.drop(columns=[TARGET, 'id', 'date'])\n",
    "val_start_date = '2017-08-01'\n",
    "val_end_date = '2017-08-15'\n",
    "\n",
    "train_indices = train_final[train_final['date'] < val_start_date].index\n",
    "val_indices = train_final[(train_final['date'] >= val_start_date) & (train_final['date'] <= val_end_date)].index\n",
    "\n",
    "X_train, y_train = features.loc[train_indices], y.loc[train_indices]\n",
    "X_val, y_val = features.loc[val_indices], y.loc[val_indices]"
   ]
  },
  {
   "cell_type": "code",
   "execution_count": null,
   "metadata": {},
   "outputs": [],
   "source": [
    "# TARGET = 'sales'\n",
    "# ## For optimizing RMSLE, we predict the log of sales.\n",
    "# y = np.log1p(train_final_ohe[TARGET])\n",
    "\n",
    "# features = train_final_ohe.drop(columns=[TARGET, 'id', 'date'])\n",
    "# val_start_date = '2017-08-01'\n",
    "# val_end_date = '2017-08-15'\n",
    "\n",
    "# train_indices = train_final_ohe[train_final_ohe['date'] < val_start_date].index\n",
    "# val_indices = train_final_ohe[(train_final_ohe['date'] >= val_start_date) & (train_final_ohe['date'] <= val_end_date)].index\n",
    "\n",
    "# X_train, y_train = features.loc[train_indices], y.loc[train_indices]\n",
    "# X_val, y_val = features.loc[val_indices], y.loc[val_indices]"
   ]
  },
  {
   "cell_type": "code",
   "execution_count": 79,
   "metadata": {},
   "outputs": [],
   "source": [
    "from sklearn.metrics import mean_squared_log_error\n",
    "def rmsle(y_true, y_pred):\n",
    "    y_pred_inv = np.expm1(y_pred)\n",
    "    y_true_inv = np.expm1(y_true)\n",
    "    y_pred_inv[y_pred_inv < 0] = 0\n",
    "    \n",
    "    return np.sqrt(mean_squared_log_error(y_true_inv, y_pred_inv))"
   ]
  },
  {
   "cell_type": "code",
   "execution_count": 81,
   "metadata": {},
   "outputs": [],
   "source": [
    "from sklearn.metrics import mean_squared_error, mean_absolute_error, mean_squared_log_error\n",
    "\n",
    "def evaluate_model(y_true_log, y_pred_log):\n",
    "    y_true_inv = np.expm1(y_true_log)\n",
    "    y_pred_inv = np.expm1(y_pred_log)\n",
    "    y_pred_inv[y_pred_inv < 0] = 0\n",
    "\n",
    "    rmsle = np.sqrt(mean_squared_log_error(y_true_inv, y_pred_inv))\n",
    "    rmse = np.sqrt(mean_squared_error(y_true_inv, y_pred_inv))\n",
    "    mae = mean_absolute_error(y_true_inv, y_pred_inv)\n",
    "    print(f\"RMSLE: {rmsle:.5f}\")\n",
    "    print(f\"RMSE:  {rmse:.2f}\")\n",
    "    print(f\"MAE:   {mae:.2f}\")\n",
    "    \n",
    "    return {\n",
    "        'rmsle': rmsle,\n",
    "        'rmse': rmse,\n",
    "        'mae': mae\n",
    "    }"
   ]
  },
  {
   "cell_type": "code",
   "execution_count": 82,
   "metadata": {},
   "outputs": [],
   "source": [
    "import re\n",
    "X_train.columns = [re.sub(r'[\\[\\]\\<\\>\\{\\}\\\"\\'\\:\\,]', '_', col) for col in X_train.columns]\n",
    "X_val.columns = [re.sub(r'[\\[\\]\\<\\>\\{\\}\\\"\\'\\:\\,]', '_', col) for col in X_val.columns]"
   ]
  },
  {
   "cell_type": "code",
   "execution_count": 83,
   "metadata": {},
   "outputs": [
    {
     "name": "stdout",
     "output_type": "stream",
     "text": [
      "(2974158, 32) (2974158,)\n",
      "(26730, 32) (26730,)\n"
     ]
    }
   ],
   "source": [
    "print(X_train.shape, y_train.shape)\n",
    "print(X_val.shape, y_val.shape)"
   ]
  },
  {
   "cell_type": "markdown",
   "metadata": {},
   "source": [
    "LGB Model"
   ]
  },
  {
   "cell_type": "code",
   "execution_count": null,
   "metadata": {},
   "outputs": [
    {
     "name": "stdout",
     "output_type": "stream",
     "text": [
      "RMSLE: 0.49337\n",
      "RMSE:  263.68\n",
      "MAE:   76.39\n"
     ]
    },
    {
     "data": {
      "text/plain": [
       "{'rmsle': 0.4933673488641244,\n",
       " 'rmse': 263.67572015218434,\n",
       " 'mae': 76.39346826473161}"
      ]
     },
     "execution_count": 68,
     "metadata": {},
     "output_type": "execute_result"
    }
   ],
   "source": [
    "import lightgbm as lgb\n",
    "lgb_params = {\n",
    "    'objective': 'regression_l1', 'metric': 'rmse', 'n_estimators': 2000,\n",
    "    'learning_rate': 0.05, 'feature_fraction': 0.8, 'bagging_fraction': 0.8,\n",
    "    'bagging_freq': 1, 'verbose': -1, 'n_jobs': -1, 'seed': 42\n",
    "}\n",
    "\n",
    "model_lgb = lgb.LGBMRegressor(**lgb_params)\n",
    "model_lgb.fit(X_train, y_train,\n",
    "              eval_set=[(X_val, y_val)],\n",
    "              eval_metric='rmse',\n",
    "              callbacks=[lgb.early_stopping(100, verbose=False)])\n",
    "\n",
    "val_preds_lgb = model_lgb.predict(X_val)\n",
    "evaluate_model(y_val, val_preds_lgb)"
   ]
  },
  {
   "cell_type": "markdown",
   "metadata": {},
   "source": [
    "Catboost Model"
   ]
  },
  {
   "cell_type": "code",
   "execution_count": 259,
   "metadata": {},
   "outputs": [
    {
     "name": "stdout",
     "output_type": "stream",
     "text": [
      "RMSLE: 0.42147\n",
      "RMSE:  261.39\n",
      "MAE:   77.67\n"
     ]
    }
   ],
   "source": [
    "from catboost import CatBoostRegressor\n",
    "\n",
    "model_cat = CatBoostRegressor(\n",
    "    iterations=500,\n",
    "    learning_rate=0.1,\n",
    "    depth=6,\n",
    "    loss_function='RMSE',\n",
    "    eval_metric='RMSE',\n",
    "    random_seed=42,\n",
    "    verbose=0\n",
    ")\n",
    "\n",
    "model_cat.fit(\n",
    "    X_train, y_train,\n",
    "    cat_features=categorical_features, \n",
    "    eval_set=(X_val, y_val),\n",
    "    early_stopping_rounds=50,\n",
    "    verbose=False\n",
    ")\n",
    "\n",
    "# Predict and Evaluate\n",
    "val_preds_cat = model_cat.predict(X_val)\n",
    "score_cat = evaluate_model(y_val, val_preds_cat)\n"
   ]
  },
  {
   "cell_type": "markdown",
   "metadata": {},
   "source": [
    " XGB Model"
   ]
  },
  {
   "cell_type": "code",
   "execution_count": null,
   "metadata": {},
   "outputs": [],
   "source": [
    "xgb_params = {\n",
    "    'objective': 'reg:squarederror', 'n_estimators': 1500, 'learning_rate': 0.05,\n",
    "    'max_depth': 7, 'subsample': 0.8, 'colsample_bytree': 0.8,\n",
    "    'random_state': 42, 'n_jobs': -1, 'early_stopping_rounds': 100\n",
    "}\n",
    "\n",
    "model_xgb = xgb.XGBRegressor(**xgb_params)\n",
    "model_xgb.fit(X_train, y_train,\n",
    "              eval_set=[(X_val, y_val)],\n",
    "              verbose=False)\n",
    "\n",
    "val_preds_xgb = model_xgb.predict(X_val)\n",
    "evaluate_model(y_val, val_preds_xgb)"
   ]
  },
  {
   "cell_type": "markdown",
   "metadata": {},
   "source": [
    "### Final Model Training and Submission"
   ]
  },
  {
   "cell_type": "code",
   "execution_count": 89,
   "metadata": {},
   "outputs": [
    {
     "name": "stdout",
     "output_type": "stream",
     "text": [
      "Full training data shape: (3000888, 32)\n",
      "Final testing data shape: (28512, 32)\n"
     ]
    }
   ],
   "source": [
    "y_full_train = np.log1p(train_final['sales'])\n",
    "X_full_train = train_final.drop(columns=['sales', 'id', 'date'])\n",
    "\n",
    "X_test_final = test_final.drop(columns=['id', 'date'])\n",
    "\n",
    "print(f\"Full training data shape: {X_full_train.shape}\")\n",
    "print(f\"Final testing data shape: {X_test_final.shape}\")"
   ]
  },
  {
   "cell_type": "code",
   "execution_count": 254,
   "metadata": {},
   "outputs": [
    {
     "name": "stderr",
     "output_type": "stream",
     "text": [
      "c:\\Users\\Shani\\AppData\\Local\\Programs\\Python\\Python311\\Lib\\site-packages\\lightgbm\\basic.py:2137: UserWarning: categorical_feature keyword has been found in `params` and will be ignored.\n",
      "Please use categorical_feature argument of the Dataset constructor to pass this parameter.\n",
      "  _log_warning(\n",
      "c:\\Users\\Shani\\AppData\\Local\\Programs\\Python\\Python311\\Lib\\site-packages\\lightgbm\\basic.py:2159: UserWarning: categorical_feature in param dict is overridden.\n",
      "  _log_warning(f\"{cat_alias} in param dict is overridden.\")\n"
     ]
    },
    {
     "name": "stdout",
     "output_type": "stream",
     "text": [
      "Final model training complete.\n"
     ]
    }
   ],
   "source": [
    "final_params = params.copy()\n",
    "final_params['n_estimators'] = best_iteration\n",
    "\n",
    "final_model = lgb.LGBMRegressor(**final_params)\n",
    "final_model.fit(X_full_train, y_full_train) \n",
    "\n",
    "print(\"Final model training complete.\")"
   ]
  },
  {
   "cell_type": "code",
   "execution_count": 255,
   "metadata": {},
   "outputs": [],
   "source": [
    "final_predictions_log = final_model.predict(X_test_final)\n",
    "final_predictions = np.expm1(final_predictions_log)\n",
    "final_predictions[final_predictions < 0] = 0\n",
    "\n",
    "submission_df = pd.DataFrame({'id': test_final['id'], 'sales': final_predictions})\n",
    "submission_df.to_csv('submission.csv', index=False)\n"
   ]
  },
  {
   "cell_type": "markdown",
   "metadata": {},
   "source": [
    "2 Stage Model"
   ]
  },
  {
   "cell_type": "code",
   "execution_count": 87,
   "metadata": {},
   "outputs": [
    {
     "name": "stdout",
     "output_type": "stream",
     "text": [
      "--- Preparing Data for Final Two-Stage LightGBM Model ---\n",
      "\n",
      "--- Finding optimal n_estimators for LGBM Classifier ---\n"
     ]
    },
    {
     "name": "stderr",
     "output_type": "stream",
     "text": [
      "c:\\Users\\Shani\\AppData\\Local\\Programs\\Python\\Python311\\Lib\\site-packages\\lightgbm\\basic.py:2137: UserWarning: categorical_feature keyword has been found in `params` and will be ignored.\n",
      "Please use categorical_feature argument of the Dataset constructor to pass this parameter.\n",
      "  _log_warning(\n",
      "c:\\Users\\Shani\\AppData\\Local\\Programs\\Python\\Python311\\Lib\\site-packages\\lightgbm\\basic.py:2159: UserWarning: categorical_feature in param dict is overridden.\n",
      "  _log_warning(f\"{cat_alias} in param dict is overridden.\")\n",
      "c:\\Users\\Shani\\AppData\\Local\\Programs\\Python\\Python311\\Lib\\site-packages\\lightgbm\\basic.py:2137: UserWarning: categorical_feature keyword has been found in `params` and will be ignored.\n",
      "Please use categorical_feature argument of the Dataset constructor to pass this parameter.\n",
      "  _log_warning(\n",
      "c:\\Users\\Shani\\AppData\\Local\\Programs\\Python\\Python311\\Lib\\site-packages\\lightgbm\\basic.py:2159: UserWarning: categorical_feature in param dict is overridden.\n",
      "  _log_warning(f\"{cat_alias} in param dict is overridden.\")\n"
     ]
    },
    {
     "name": "stdout",
     "output_type": "stream",
     "text": [
      "Found optimal classifier n_estimators: 307\n"
     ]
    }
   ],
   "source": [
    "print(\"--- Preparing Data for Final Two-Stage LightGBM Model ---\")\n",
    "\n",
    "# --- 1. Prepare data for the Classification model ---\n",
    "# Target is 1 for any sale, 0 for no sale\n",
    "y_train_class = (train_final.loc[X_train.index, 'sales'] > 0).astype(int)\n",
    "y_val_class = (train_final.loc[X_val.index, 'sales'] > 0).astype(int)\n",
    "y_full_train_class = (train_final['sales'] > 0).astype(int)\n",
    "\n",
    "# --- 2. Prepare data for the Regression model ---\n",
    "# Use ALL training data where sales were > 0 for the final model\n",
    "train_positive_sales_full = train_final[train_final['sales'] > 0]\n",
    "X_full_train_reg = train_positive_sales_full.drop(columns=['sales', 'id', 'date'])\n",
    "y_full_train_reg = np.log1p(train_positive_sales_full['sales'])\n",
    "\n",
    "\n",
    "# --- STAGE 1 (Part A): Find Optimal Classifier Iterations ---\n",
    "print(\"\\n--- Finding optimal n_estimators for LGBM Classifier ---\")\n",
    "clf_params = {\n",
    "    'objective': 'binary',\n",
    "    'metric': 'logloss',\n",
    "    'n_estimators': 2000,\n",
    "    'learning_rate': 0.05,\n",
    "    'feature_fraction': 0.8,\n",
    "    'bagging_fraction': 0.8,\n",
    "    'verbose': -1,\n",
    "    'n_jobs': -1,\n",
    "    'seed': 42,\n",
    "    'categorical_feature': 'auto'\n",
    "}\n",
    "\n",
    "model_clf_val = lgb.LGBMClassifier(**clf_params)\n",
    "# Correctly fit with the eval_metric specified\n",
    "model_clf_val.fit(X_train, y_train_class,\n",
    "                  eval_set=[(X_val, y_val_class)],\n",
    "                  eval_metric='logloss',\n",
    "                  callbacks=[lgb.early_stopping(100, verbose=False)])\n",
    "\n",
    "best_clf_iteration = model_clf_val.best_iteration_\n",
    "print(f\"Found optimal classifier n_estimators: {best_clf_iteration}\")"
   ]
  },
  {
   "cell_type": "code",
   "execution_count": 90,
   "metadata": {},
   "outputs": [
    {
     "name": "stdout",
     "output_type": "stream",
     "text": [
      "\n",
      "--- Training Final Stage 1: LGBM Classifier on ALL Data---\n"
     ]
    },
    {
     "name": "stderr",
     "output_type": "stream",
     "text": [
      "c:\\Users\\Shani\\AppData\\Local\\Programs\\Python\\Python311\\Lib\\site-packages\\lightgbm\\basic.py:2137: UserWarning: categorical_feature keyword has been found in `params` and will be ignored.\n",
      "Please use categorical_feature argument of the Dataset constructor to pass this parameter.\n",
      "  _log_warning(\n",
      "c:\\Users\\Shani\\AppData\\Local\\Programs\\Python\\Python311\\Lib\\site-packages\\lightgbm\\basic.py:2159: UserWarning: categorical_feature in param dict is overridden.\n",
      "  _log_warning(f\"{cat_alias} in param dict is overridden.\")\n"
     ]
    },
    {
     "name": "stdout",
     "output_type": "stream",
     "text": [
      "\n",
      "--- Training Final Stage 2: LGBM Regressor on ALL Positive Sales Data---\n"
     ]
    },
    {
     "name": "stderr",
     "output_type": "stream",
     "text": [
      "c:\\Users\\Shani\\AppData\\Local\\Programs\\Python\\Python311\\Lib\\site-packages\\lightgbm\\basic.py:2137: UserWarning: categorical_feature keyword has been found in `params` and will be ignored.\n",
      "Please use categorical_feature argument of the Dataset constructor to pass this parameter.\n",
      "  _log_warning(\n",
      "c:\\Users\\Shani\\AppData\\Local\\Programs\\Python\\Python311\\Lib\\site-packages\\lightgbm\\basic.py:2159: UserWarning: categorical_feature in param dict is overridden.\n",
      "  _log_warning(f\"{cat_alias} in param dict is overridden.\")\n"
     ]
    },
    {
     "name": "stdout",
     "output_type": "stream",
     "text": [
      "\n",
      "--- Combining Final Predictions for Submission ---\n"
     ]
    }
   ],
   "source": [
    "# --- STAGE 1 (Part B): Train Final Classifier ---\n",
    "print(\"\\n--- Training Final Stage 1: LGBM Classifier on ALL Data---\")\n",
    "final_clf_params = clf_params.copy()\n",
    "final_clf_params['n_estimators'] = best_clf_iteration\n",
    "\n",
    "final_clf_lgb = lgb.LGBMClassifier(**final_clf_params)\n",
    "final_clf_lgb.fit(X_full_train, y_full_train_class)\n",
    "\n",
    "\n",
    "# --- STAGE 2: Train Final Regressor ---\n",
    "print(\"\\n--- Training Final Stage 2: LGBM Regressor on ALL Positive Sales Data---\")\n",
    "reg_params = {\n",
    "    'objective': 'regression_l1',\n",
    "    'metric': 'rmse',\n",
    "    'n_estimators': 2000,\n",
    "    'learning_rate': 0.05,\n",
    "    'feature_fraction': 0.8,\n",
    "    'bagging_fraction': 0.8,\n",
    "    'verbose': -1,\n",
    "    'n_jobs': -1,\n",
    "    'seed': 42,\n",
    "    'categorical_feature': 'auto'\n",
    "}\n",
    "final_reg_lgb = lgb.LGBMRegressor(**reg_params)\n",
    "final_reg_lgb.fit(X_full_train_reg, y_full_train_reg)\n",
    "\n",
    "\n",
    "# --- Combine Final Predictions ---\n",
    "print(\"\\n--- Combining Final Predictions for Submission ---\")\n",
    "\n",
    "# Predict probability of sale on the final test set\n",
    "final_test_preds_prob = final_clf_lgb.predict_proba(X_test_final)[:, 1]\n",
    "\n",
    "# Predict sale amount on the final test set\n",
    "final_test_preds_log_amount = final_reg_lgb.predict(X_test_final)\n",
    "\n",
    "# Inverse transform and combine\n",
    "final_amount = np.expm1(final_test_preds_log_amount)\n",
    "final_amount[final_amount < 0] = 0\n",
    "final_predictions = final_test_preds_prob * final_amount\n"
   ]
  },
  {
   "cell_type": "code",
   "execution_count": 91,
   "metadata": {},
   "outputs": [
    {
     "name": "stdout",
     "output_type": "stream",
     "text": [
      "\n",
      "Submission file 'submission_two_stage_lgb.csv' created successfully!\n"
     ]
    }
   ],
   "source": [
    "# --- Create Submission File ---\n",
    "submission_df = pd.DataFrame({'id': test_final['id'], 'sales': final_predictions})\n",
    "submission_df.to_csv('submission_two_stage_lgb.csv', index=False)\n",
    "\n",
    "print(\"\\nSubmission file 'submission_two_stage_lgb.csv' created successfully!\")"
   ]
  }
 ],
 "metadata": {
  "kaggle": {
   "accelerator": "none",
   "dataSources": [
    {
     "databundleVersionId": 2887556,
     "sourceId": 29781,
     "sourceType": "competition"
    }
   ],
   "dockerImageVersionId": 31089,
   "isGpuEnabled": false,
   "isInternetEnabled": false,
   "language": "python",
   "sourceType": "notebook"
  },
  "kernelspec": {
   "display_name": "Python 3",
   "language": "python",
   "name": "python3"
  },
  "language_info": {
   "codemirror_mode": {
    "name": "ipython",
    "version": 3
   },
   "file_extension": ".py",
   "mimetype": "text/x-python",
   "name": "python",
   "nbconvert_exporter": "python",
   "pygments_lexer": "ipython3",
   "version": "3.11.5"
  }
 },
 "nbformat": 4,
 "nbformat_minor": 4
}
