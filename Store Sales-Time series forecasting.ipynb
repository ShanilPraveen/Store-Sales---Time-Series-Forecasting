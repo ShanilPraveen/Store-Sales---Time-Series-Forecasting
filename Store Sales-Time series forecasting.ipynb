{
 "cells": [
  {
   "cell_type": "code",
   "execution_count": 2,
   "metadata": {
    "_cell_guid": "b1076dfc-b9ad-4769-8c92-a6c4dae69d19",
    "_uuid": "8f2839f25d086af736a60e9eeb907d3b93b6e0e5",
    "execution": {
     "iopub.execute_input": "2025-09-12T17:29:51.639051Z",
     "iopub.status.busy": "2025-09-12T17:29:51.638643Z",
     "iopub.status.idle": "2025-09-12T17:29:54.453691Z",
     "shell.execute_reply": "2025-09-12T17:29:54.452665Z",
     "shell.execute_reply.started": "2025-09-12T17:29:51.639022Z"
    },
    "trusted": true
   },
   "outputs": [],
   "source": [
    "import numpy as np \n",
    "import pandas as pd \n",
    "import os"
   ]
  },
  {
   "cell_type": "code",
   "execution_count": 188,
   "metadata": {
    "execution": {
     "iopub.execute_input": "2025-09-12T17:30:00.239065Z",
     "iopub.status.busy": "2025-09-12T17:30:00.238703Z",
     "iopub.status.idle": "2025-09-12T17:30:03.700399Z",
     "shell.execute_reply": "2025-09-12T17:30:03.698805Z",
     "shell.execute_reply.started": "2025-09-12T17:30:00.239035Z"
    },
    "trusted": true
   },
   "outputs": [],
   "source": [
    "train_data = pd.read_csv(\"train.csv\")\n",
    "test_data = pd.read_csv(\"test.csv\")\n",
    "holiday_data = pd.read_csv(\"holidays_events.csv\")\n",
    "oil_data = pd.read_csv(\"oil.csv\")\n",
    "stores_data = pd.read_csv(\"stores.csv\")\n",
    "transactions_data = pd.read_csv(\"transactions.csv\")"
   ]
  },
  {
   "cell_type": "code",
   "execution_count": 3,
   "metadata": {
    "execution": {
     "iopub.execute_input": "2025-09-12T17:30:16.642607Z",
     "iopub.status.busy": "2025-09-12T17:30:16.642266Z",
     "iopub.status.idle": "2025-09-12T17:30:16.680603Z",
     "shell.execute_reply": "2025-09-12T17:30:16.679407Z",
     "shell.execute_reply.started": "2025-09-12T17:30:16.642582Z"
    },
    "trusted": true
   },
   "outputs": [
    {
     "data": {
      "text/html": [
       "<div>\n",
       "<style scoped>\n",
       "    .dataframe tbody tr th:only-of-type {\n",
       "        vertical-align: middle;\n",
       "    }\n",
       "\n",
       "    .dataframe tbody tr th {\n",
       "        vertical-align: top;\n",
       "    }\n",
       "\n",
       "    .dataframe thead th {\n",
       "        text-align: right;\n",
       "    }\n",
       "</style>\n",
       "<table border=\"1\" class=\"dataframe\">\n",
       "  <thead>\n",
       "    <tr style=\"text-align: right;\">\n",
       "      <th></th>\n",
       "      <th>id</th>\n",
       "      <th>date</th>\n",
       "      <th>store_nbr</th>\n",
       "      <th>family</th>\n",
       "      <th>sales</th>\n",
       "      <th>onpromotion</th>\n",
       "    </tr>\n",
       "  </thead>\n",
       "  <tbody>\n",
       "    <tr>\n",
       "      <th>0</th>\n",
       "      <td>0</td>\n",
       "      <td>2013-01-01</td>\n",
       "      <td>1</td>\n",
       "      <td>AUTOMOTIVE</td>\n",
       "      <td>0.000</td>\n",
       "      <td>0</td>\n",
       "    </tr>\n",
       "    <tr>\n",
       "      <th>1</th>\n",
       "      <td>1</td>\n",
       "      <td>2013-01-01</td>\n",
       "      <td>1</td>\n",
       "      <td>BABY CARE</td>\n",
       "      <td>0.000</td>\n",
       "      <td>0</td>\n",
       "    </tr>\n",
       "    <tr>\n",
       "      <th>2</th>\n",
       "      <td>2</td>\n",
       "      <td>2013-01-01</td>\n",
       "      <td>1</td>\n",
       "      <td>BEAUTY</td>\n",
       "      <td>0.000</td>\n",
       "      <td>0</td>\n",
       "    </tr>\n",
       "    <tr>\n",
       "      <th>3</th>\n",
       "      <td>3</td>\n",
       "      <td>2013-01-01</td>\n",
       "      <td>1</td>\n",
       "      <td>BEVERAGES</td>\n",
       "      <td>0.000</td>\n",
       "      <td>0</td>\n",
       "    </tr>\n",
       "    <tr>\n",
       "      <th>4</th>\n",
       "      <td>4</td>\n",
       "      <td>2013-01-01</td>\n",
       "      <td>1</td>\n",
       "      <td>BOOKS</td>\n",
       "      <td>0.000</td>\n",
       "      <td>0</td>\n",
       "    </tr>\n",
       "    <tr>\n",
       "      <th>...</th>\n",
       "      <td>...</td>\n",
       "      <td>...</td>\n",
       "      <td>...</td>\n",
       "      <td>...</td>\n",
       "      <td>...</td>\n",
       "      <td>...</td>\n",
       "    </tr>\n",
       "    <tr>\n",
       "      <th>3000883</th>\n",
       "      <td>3000883</td>\n",
       "      <td>2017-08-15</td>\n",
       "      <td>9</td>\n",
       "      <td>POULTRY</td>\n",
       "      <td>438.133</td>\n",
       "      <td>0</td>\n",
       "    </tr>\n",
       "    <tr>\n",
       "      <th>3000884</th>\n",
       "      <td>3000884</td>\n",
       "      <td>2017-08-15</td>\n",
       "      <td>9</td>\n",
       "      <td>PREPARED FOODS</td>\n",
       "      <td>154.553</td>\n",
       "      <td>1</td>\n",
       "    </tr>\n",
       "    <tr>\n",
       "      <th>3000885</th>\n",
       "      <td>3000885</td>\n",
       "      <td>2017-08-15</td>\n",
       "      <td>9</td>\n",
       "      <td>PRODUCE</td>\n",
       "      <td>2419.729</td>\n",
       "      <td>148</td>\n",
       "    </tr>\n",
       "    <tr>\n",
       "      <th>3000886</th>\n",
       "      <td>3000886</td>\n",
       "      <td>2017-08-15</td>\n",
       "      <td>9</td>\n",
       "      <td>SCHOOL AND OFFICE SUPPLIES</td>\n",
       "      <td>121.000</td>\n",
       "      <td>8</td>\n",
       "    </tr>\n",
       "    <tr>\n",
       "      <th>3000887</th>\n",
       "      <td>3000887</td>\n",
       "      <td>2017-08-15</td>\n",
       "      <td>9</td>\n",
       "      <td>SEAFOOD</td>\n",
       "      <td>16.000</td>\n",
       "      <td>0</td>\n",
       "    </tr>\n",
       "  </tbody>\n",
       "</table>\n",
       "<p>3000888 rows × 6 columns</p>\n",
       "</div>"
      ],
      "text/plain": [
       "              id        date  store_nbr                      family     sales  \\\n",
       "0              0  2013-01-01          1                  AUTOMOTIVE     0.000   \n",
       "1              1  2013-01-01          1                   BABY CARE     0.000   \n",
       "2              2  2013-01-01          1                      BEAUTY     0.000   \n",
       "3              3  2013-01-01          1                   BEVERAGES     0.000   \n",
       "4              4  2013-01-01          1                       BOOKS     0.000   \n",
       "...          ...         ...        ...                         ...       ...   \n",
       "3000883  3000883  2017-08-15          9                     POULTRY   438.133   \n",
       "3000884  3000884  2017-08-15          9              PREPARED FOODS   154.553   \n",
       "3000885  3000885  2017-08-15          9                     PRODUCE  2419.729   \n",
       "3000886  3000886  2017-08-15          9  SCHOOL AND OFFICE SUPPLIES   121.000   \n",
       "3000887  3000887  2017-08-15          9                     SEAFOOD    16.000   \n",
       "\n",
       "         onpromotion  \n",
       "0                  0  \n",
       "1                  0  \n",
       "2                  0  \n",
       "3                  0  \n",
       "4                  0  \n",
       "...              ...  \n",
       "3000883            0  \n",
       "3000884            1  \n",
       "3000885          148  \n",
       "3000886            8  \n",
       "3000887            0  \n",
       "\n",
       "[3000888 rows x 6 columns]"
      ]
     },
     "execution_count": 3,
     "metadata": {},
     "output_type": "execute_result"
    }
   ],
   "source": [
    "train_data"
   ]
  },
  {
   "cell_type": "code",
   "execution_count": 4,
   "metadata": {
    "execution": {
     "iopub.execute_input": "2025-09-12T17:36:57.633161Z",
     "iopub.status.busy": "2025-09-12T17:36:57.632805Z",
     "iopub.status.idle": "2025-09-12T17:36:57.958735Z",
     "shell.execute_reply": "2025-09-12T17:36:57.957620Z",
     "shell.execute_reply.started": "2025-09-12T17:36:57.633134Z"
    },
    "trusted": true
   },
   "outputs": [
    {
     "name": "stdout",
     "output_type": "stream",
     "text": [
      "id             0\n",
      "date           0\n",
      "store_nbr      0\n",
      "family         0\n",
      "sales          0\n",
      "onpromotion    0\n",
      "dtype: int64\n"
     ]
    }
   ],
   "source": [
    "print(train_data.isnull().sum())"
   ]
  },
  {
   "cell_type": "code",
   "execution_count": 7,
   "metadata": {
    "execution": {
     "iopub.execute_input": "2025-09-12T17:37:21.217833Z",
     "iopub.status.busy": "2025-09-12T17:37:21.217532Z",
     "iopub.status.idle": "2025-09-12T17:37:21.228851Z",
     "shell.execute_reply": "2025-09-12T17:37:21.227894Z",
     "shell.execute_reply.started": "2025-09-12T17:37:21.217809Z"
    },
    "trusted": true
   },
   "outputs": [
    {
     "name": "stdout",
     "output_type": "stream",
     "text": [
      "id             0\n",
      "date           0\n",
      "store_nbr      0\n",
      "family         0\n",
      "onpromotion    0\n",
      "dtype: int64\n"
     ]
    }
   ],
   "source": [
    "print(test_data.isnull().sum())"
   ]
  },
  {
   "cell_type": "code",
   "execution_count": 5,
   "metadata": {
    "execution": {
     "iopub.execute_input": "2025-09-12T17:38:33.092711Z",
     "iopub.status.busy": "2025-09-12T17:38:33.092358Z",
     "iopub.status.idle": "2025-09-12T17:38:33.110760Z",
     "shell.execute_reply": "2025-09-12T17:38:33.109560Z",
     "shell.execute_reply.started": "2025-09-12T17:38:33.092686Z"
    },
    "trusted": true
   },
   "outputs": [
    {
     "data": {
      "text/html": [
       "<div>\n",
       "<style scoped>\n",
       "    .dataframe tbody tr th:only-of-type {\n",
       "        vertical-align: middle;\n",
       "    }\n",
       "\n",
       "    .dataframe tbody tr th {\n",
       "        vertical-align: top;\n",
       "    }\n",
       "\n",
       "    .dataframe thead th {\n",
       "        text-align: right;\n",
       "    }\n",
       "</style>\n",
       "<table border=\"1\" class=\"dataframe\">\n",
       "  <thead>\n",
       "    <tr style=\"text-align: right;\">\n",
       "      <th></th>\n",
       "      <th>date</th>\n",
       "      <th>type</th>\n",
       "      <th>locale</th>\n",
       "      <th>locale_name</th>\n",
       "      <th>description</th>\n",
       "      <th>transferred</th>\n",
       "    </tr>\n",
       "  </thead>\n",
       "  <tbody>\n",
       "    <tr>\n",
       "      <th>0</th>\n",
       "      <td>2012-03-02</td>\n",
       "      <td>Holiday</td>\n",
       "      <td>Local</td>\n",
       "      <td>Manta</td>\n",
       "      <td>Fundacion de Manta</td>\n",
       "      <td>False</td>\n",
       "    </tr>\n",
       "    <tr>\n",
       "      <th>1</th>\n",
       "      <td>2012-04-01</td>\n",
       "      <td>Holiday</td>\n",
       "      <td>Regional</td>\n",
       "      <td>Cotopaxi</td>\n",
       "      <td>Provincializacion de Cotopaxi</td>\n",
       "      <td>False</td>\n",
       "    </tr>\n",
       "    <tr>\n",
       "      <th>2</th>\n",
       "      <td>2012-04-12</td>\n",
       "      <td>Holiday</td>\n",
       "      <td>Local</td>\n",
       "      <td>Cuenca</td>\n",
       "      <td>Fundacion de Cuenca</td>\n",
       "      <td>False</td>\n",
       "    </tr>\n",
       "    <tr>\n",
       "      <th>3</th>\n",
       "      <td>2012-04-14</td>\n",
       "      <td>Holiday</td>\n",
       "      <td>Local</td>\n",
       "      <td>Libertad</td>\n",
       "      <td>Cantonizacion de Libertad</td>\n",
       "      <td>False</td>\n",
       "    </tr>\n",
       "    <tr>\n",
       "      <th>4</th>\n",
       "      <td>2012-04-21</td>\n",
       "      <td>Holiday</td>\n",
       "      <td>Local</td>\n",
       "      <td>Riobamba</td>\n",
       "      <td>Cantonizacion de Riobamba</td>\n",
       "      <td>False</td>\n",
       "    </tr>\n",
       "    <tr>\n",
       "      <th>...</th>\n",
       "      <td>...</td>\n",
       "      <td>...</td>\n",
       "      <td>...</td>\n",
       "      <td>...</td>\n",
       "      <td>...</td>\n",
       "      <td>...</td>\n",
       "    </tr>\n",
       "    <tr>\n",
       "      <th>345</th>\n",
       "      <td>2017-12-22</td>\n",
       "      <td>Additional</td>\n",
       "      <td>National</td>\n",
       "      <td>Ecuador</td>\n",
       "      <td>Navidad-3</td>\n",
       "      <td>False</td>\n",
       "    </tr>\n",
       "    <tr>\n",
       "      <th>346</th>\n",
       "      <td>2017-12-23</td>\n",
       "      <td>Additional</td>\n",
       "      <td>National</td>\n",
       "      <td>Ecuador</td>\n",
       "      <td>Navidad-2</td>\n",
       "      <td>False</td>\n",
       "    </tr>\n",
       "    <tr>\n",
       "      <th>347</th>\n",
       "      <td>2017-12-24</td>\n",
       "      <td>Additional</td>\n",
       "      <td>National</td>\n",
       "      <td>Ecuador</td>\n",
       "      <td>Navidad-1</td>\n",
       "      <td>False</td>\n",
       "    </tr>\n",
       "    <tr>\n",
       "      <th>348</th>\n",
       "      <td>2017-12-25</td>\n",
       "      <td>Holiday</td>\n",
       "      <td>National</td>\n",
       "      <td>Ecuador</td>\n",
       "      <td>Navidad</td>\n",
       "      <td>False</td>\n",
       "    </tr>\n",
       "    <tr>\n",
       "      <th>349</th>\n",
       "      <td>2017-12-26</td>\n",
       "      <td>Additional</td>\n",
       "      <td>National</td>\n",
       "      <td>Ecuador</td>\n",
       "      <td>Navidad+1</td>\n",
       "      <td>False</td>\n",
       "    </tr>\n",
       "  </tbody>\n",
       "</table>\n",
       "<p>350 rows × 6 columns</p>\n",
       "</div>"
      ],
      "text/plain": [
       "           date        type    locale locale_name  \\\n",
       "0    2012-03-02     Holiday     Local       Manta   \n",
       "1    2012-04-01     Holiday  Regional    Cotopaxi   \n",
       "2    2012-04-12     Holiday     Local      Cuenca   \n",
       "3    2012-04-14     Holiday     Local    Libertad   \n",
       "4    2012-04-21     Holiday     Local    Riobamba   \n",
       "..          ...         ...       ...         ...   \n",
       "345  2017-12-22  Additional  National     Ecuador   \n",
       "346  2017-12-23  Additional  National     Ecuador   \n",
       "347  2017-12-24  Additional  National     Ecuador   \n",
       "348  2017-12-25     Holiday  National     Ecuador   \n",
       "349  2017-12-26  Additional  National     Ecuador   \n",
       "\n",
       "                       description  transferred  \n",
       "0               Fundacion de Manta        False  \n",
       "1    Provincializacion de Cotopaxi        False  \n",
       "2              Fundacion de Cuenca        False  \n",
       "3        Cantonizacion de Libertad        False  \n",
       "4        Cantonizacion de Riobamba        False  \n",
       "..                             ...          ...  \n",
       "345                      Navidad-3        False  \n",
       "346                      Navidad-2        False  \n",
       "347                      Navidad-1        False  \n",
       "348                        Navidad        False  \n",
       "349                      Navidad+1        False  \n",
       "\n",
       "[350 rows x 6 columns]"
      ]
     },
     "execution_count": 5,
     "metadata": {},
     "output_type": "execute_result"
    }
   ],
   "source": [
    "holiday_data"
   ]
  },
  {
   "cell_type": "code",
   "execution_count": 112,
   "metadata": {},
   "outputs": [
    {
     "data": {
      "text/plain": [
       "Index(['date', 'type', 'locale', 'locale_name', 'description', 'transferred'], dtype='object')"
      ]
     },
     "execution_count": 112,
     "metadata": {},
     "output_type": "execute_result"
    }
   ],
   "source": [
    "holiday_data.columns"
   ]
  },
  {
   "cell_type": "code",
   "execution_count": null,
   "metadata": {
    "execution": {
     "iopub.execute_input": "2025-09-12T18:01:47.208731Z",
     "iopub.status.busy": "2025-09-12T18:01:47.207956Z",
     "iopub.status.idle": "2025-09-12T18:01:47.215972Z",
     "shell.execute_reply": "2025-09-12T18:01:47.214743Z",
     "shell.execute_reply.started": "2025-09-12T18:01:47.208696Z"
    },
    "trusted": true
   },
   "outputs": [
    {
     "data": {
      "text/plain": [
       "array(['Holiday', 'Transfer', 'Additional', 'Bridge', 'Work Day', 'Event'],\n",
       "      dtype=object)"
      ]
     },
     "execution_count": 6,
     "metadata": {},
     "output_type": "execute_result"
    }
   ],
   "source": [
    "holiday_data[\"type\"].unique()"
   ]
  },
  {
   "cell_type": "code",
   "execution_count": 110,
   "metadata": {},
   "outputs": [
    {
     "data": {
      "text/plain": [
       "array(['Local', 'Regional', 'National'], dtype=object)"
      ]
     },
     "execution_count": 110,
     "metadata": {},
     "output_type": "execute_result"
    }
   ],
   "source": [
    "holiday_data[\"locale\"].unique()"
   ]
  },
  {
   "cell_type": "code",
   "execution_count": 111,
   "metadata": {},
   "outputs": [
    {
     "data": {
      "text/plain": [
       "array(['Manta', 'Cotopaxi', 'Cuenca', 'Libertad', 'Riobamba', 'Puyo',\n",
       "       'Guaranda', 'Imbabura', 'Latacunga', 'Machala', 'Santo Domingo',\n",
       "       'El Carmen', 'Cayambe', 'Esmeraldas', 'Ecuador', 'Ambato',\n",
       "       'Ibarra', 'Quevedo', 'Santo Domingo de los Tsachilas',\n",
       "       'Santa Elena', 'Quito', 'Loja', 'Salinas', 'Guayaquil'],\n",
       "      dtype=object)"
      ]
     },
     "execution_count": 111,
     "metadata": {},
     "output_type": "execute_result"
    }
   ],
   "source": [
    "holiday_data[\"locale_name\"].unique()"
   ]
  },
  {
   "cell_type": "code",
   "execution_count": 7,
   "metadata": {
    "execution": {
     "iopub.execute_input": "2025-09-12T17:39:12.432718Z",
     "iopub.status.busy": "2025-09-12T17:39:12.432408Z",
     "iopub.status.idle": "2025-09-12T17:39:12.439727Z",
     "shell.execute_reply": "2025-09-12T17:39:12.438742Z",
     "shell.execute_reply.started": "2025-09-12T17:39:12.432694Z"
    },
    "trusted": true
   },
   "outputs": [
    {
     "name": "stdout",
     "output_type": "stream",
     "text": [
      "date           0\n",
      "type           0\n",
      "locale         0\n",
      "locale_name    0\n",
      "description    0\n",
      "transferred    0\n",
      "dtype: int64\n"
     ]
    }
   ],
   "source": [
    "print(holiday_data.isnull().sum())"
   ]
  },
  {
   "cell_type": "code",
   "execution_count": 8,
   "metadata": {
    "execution": {
     "iopub.execute_input": "2025-09-12T17:38:47.153639Z",
     "iopub.status.busy": "2025-09-12T17:38:47.153306Z",
     "iopub.status.idle": "2025-09-12T17:38:47.168889Z",
     "shell.execute_reply": "2025-09-12T17:38:47.167609Z",
     "shell.execute_reply.started": "2025-09-12T17:38:47.153613Z"
    },
    "trusted": true
   },
   "outputs": [
    {
     "data": {
      "text/html": [
       "<div>\n",
       "<style scoped>\n",
       "    .dataframe tbody tr th:only-of-type {\n",
       "        vertical-align: middle;\n",
       "    }\n",
       "\n",
       "    .dataframe tbody tr th {\n",
       "        vertical-align: top;\n",
       "    }\n",
       "\n",
       "    .dataframe thead th {\n",
       "        text-align: right;\n",
       "    }\n",
       "</style>\n",
       "<table border=\"1\" class=\"dataframe\">\n",
       "  <thead>\n",
       "    <tr style=\"text-align: right;\">\n",
       "      <th></th>\n",
       "      <th>date</th>\n",
       "      <th>dcoilwtico</th>\n",
       "    </tr>\n",
       "  </thead>\n",
       "  <tbody>\n",
       "    <tr>\n",
       "      <th>0</th>\n",
       "      <td>2013-01-01</td>\n",
       "      <td>NaN</td>\n",
       "    </tr>\n",
       "    <tr>\n",
       "      <th>1</th>\n",
       "      <td>2013-01-02</td>\n",
       "      <td>93.14</td>\n",
       "    </tr>\n",
       "    <tr>\n",
       "      <th>2</th>\n",
       "      <td>2013-01-03</td>\n",
       "      <td>92.97</td>\n",
       "    </tr>\n",
       "    <tr>\n",
       "      <th>3</th>\n",
       "      <td>2013-01-04</td>\n",
       "      <td>93.12</td>\n",
       "    </tr>\n",
       "    <tr>\n",
       "      <th>4</th>\n",
       "      <td>2013-01-07</td>\n",
       "      <td>93.20</td>\n",
       "    </tr>\n",
       "    <tr>\n",
       "      <th>...</th>\n",
       "      <td>...</td>\n",
       "      <td>...</td>\n",
       "    </tr>\n",
       "    <tr>\n",
       "      <th>1213</th>\n",
       "      <td>2017-08-25</td>\n",
       "      <td>47.65</td>\n",
       "    </tr>\n",
       "    <tr>\n",
       "      <th>1214</th>\n",
       "      <td>2017-08-28</td>\n",
       "      <td>46.40</td>\n",
       "    </tr>\n",
       "    <tr>\n",
       "      <th>1215</th>\n",
       "      <td>2017-08-29</td>\n",
       "      <td>46.46</td>\n",
       "    </tr>\n",
       "    <tr>\n",
       "      <th>1216</th>\n",
       "      <td>2017-08-30</td>\n",
       "      <td>45.96</td>\n",
       "    </tr>\n",
       "    <tr>\n",
       "      <th>1217</th>\n",
       "      <td>2017-08-31</td>\n",
       "      <td>47.26</td>\n",
       "    </tr>\n",
       "  </tbody>\n",
       "</table>\n",
       "<p>1218 rows × 2 columns</p>\n",
       "</div>"
      ],
      "text/plain": [
       "            date  dcoilwtico\n",
       "0     2013-01-01         NaN\n",
       "1     2013-01-02       93.14\n",
       "2     2013-01-03       92.97\n",
       "3     2013-01-04       93.12\n",
       "4     2013-01-07       93.20\n",
       "...          ...         ...\n",
       "1213  2017-08-25       47.65\n",
       "1214  2017-08-28       46.40\n",
       "1215  2017-08-29       46.46\n",
       "1216  2017-08-30       45.96\n",
       "1217  2017-08-31       47.26\n",
       "\n",
       "[1218 rows x 2 columns]"
      ]
     },
     "execution_count": 8,
     "metadata": {},
     "output_type": "execute_result"
    }
   ],
   "source": [
    "oil_data"
   ]
  },
  {
   "cell_type": "code",
   "execution_count": 11,
   "metadata": {
    "execution": {
     "iopub.execute_input": "2025-09-12T17:39:23.812796Z",
     "iopub.status.busy": "2025-09-12T17:39:23.812459Z",
     "iopub.status.idle": "2025-09-12T17:39:23.820476Z",
     "shell.execute_reply": "2025-09-12T17:39:23.819163Z",
     "shell.execute_reply.started": "2025-09-12T17:39:23.812771Z"
    },
    "trusted": true
   },
   "outputs": [
    {
     "name": "stdout",
     "output_type": "stream",
     "text": [
      "date           0\n",
      "dcoilwtico    43\n",
      "dtype: int64\n"
     ]
    }
   ],
   "source": [
    "print(oil_data.isnull().sum())"
   ]
  },
  {
   "cell_type": "code",
   "execution_count": 14,
   "metadata": {
    "execution": {
     "iopub.execute_input": "2025-09-12T17:40:33.543740Z",
     "iopub.status.busy": "2025-09-12T17:40:33.543409Z",
     "iopub.status.idle": "2025-09-12T17:40:33.551516Z",
     "shell.execute_reply": "2025-09-12T17:40:33.549868Z",
     "shell.execute_reply.started": "2025-09-12T17:40:33.543713Z"
    },
    "trusted": true
   },
   "outputs": [
    {
     "name": "stdout",
     "output_type": "stream",
     "text": [
      "store_nbr    0\n",
      "city         0\n",
      "state        0\n",
      "type         0\n",
      "cluster      0\n",
      "dtype: int64\n"
     ]
    }
   ],
   "source": [
    "print(stores_data.isnull().sum())"
   ]
  },
  {
   "cell_type": "code",
   "execution_count": 15,
   "metadata": {
    "execution": {
     "iopub.execute_input": "2025-09-12T17:42:57.812645Z",
     "iopub.status.busy": "2025-09-12T17:42:57.812304Z",
     "iopub.status.idle": "2025-09-12T17:42:57.824560Z",
     "shell.execute_reply": "2025-09-12T17:42:57.823396Z",
     "shell.execute_reply.started": "2025-09-12T17:42:57.812620Z"
    },
    "trusted": true
   },
   "outputs": [
    {
     "data": {
      "text/html": [
       "<div>\n",
       "<style scoped>\n",
       "    .dataframe tbody tr th:only-of-type {\n",
       "        vertical-align: middle;\n",
       "    }\n",
       "\n",
       "    .dataframe tbody tr th {\n",
       "        vertical-align: top;\n",
       "    }\n",
       "\n",
       "    .dataframe thead th {\n",
       "        text-align: right;\n",
       "    }\n",
       "</style>\n",
       "<table border=\"1\" class=\"dataframe\">\n",
       "  <thead>\n",
       "    <tr style=\"text-align: right;\">\n",
       "      <th></th>\n",
       "      <th>date</th>\n",
       "      <th>store_nbr</th>\n",
       "      <th>transactions</th>\n",
       "    </tr>\n",
       "  </thead>\n",
       "  <tbody>\n",
       "    <tr>\n",
       "      <th>0</th>\n",
       "      <td>2013-01-01</td>\n",
       "      <td>25</td>\n",
       "      <td>770</td>\n",
       "    </tr>\n",
       "    <tr>\n",
       "      <th>1</th>\n",
       "      <td>2013-01-02</td>\n",
       "      <td>1</td>\n",
       "      <td>2111</td>\n",
       "    </tr>\n",
       "    <tr>\n",
       "      <th>2</th>\n",
       "      <td>2013-01-02</td>\n",
       "      <td>2</td>\n",
       "      <td>2358</td>\n",
       "    </tr>\n",
       "    <tr>\n",
       "      <th>3</th>\n",
       "      <td>2013-01-02</td>\n",
       "      <td>3</td>\n",
       "      <td>3487</td>\n",
       "    </tr>\n",
       "    <tr>\n",
       "      <th>4</th>\n",
       "      <td>2013-01-02</td>\n",
       "      <td>4</td>\n",
       "      <td>1922</td>\n",
       "    </tr>\n",
       "    <tr>\n",
       "      <th>...</th>\n",
       "      <td>...</td>\n",
       "      <td>...</td>\n",
       "      <td>...</td>\n",
       "    </tr>\n",
       "    <tr>\n",
       "      <th>83483</th>\n",
       "      <td>2017-08-15</td>\n",
       "      <td>50</td>\n",
       "      <td>2804</td>\n",
       "    </tr>\n",
       "    <tr>\n",
       "      <th>83484</th>\n",
       "      <td>2017-08-15</td>\n",
       "      <td>51</td>\n",
       "      <td>1573</td>\n",
       "    </tr>\n",
       "    <tr>\n",
       "      <th>83485</th>\n",
       "      <td>2017-08-15</td>\n",
       "      <td>52</td>\n",
       "      <td>2255</td>\n",
       "    </tr>\n",
       "    <tr>\n",
       "      <th>83486</th>\n",
       "      <td>2017-08-15</td>\n",
       "      <td>53</td>\n",
       "      <td>932</td>\n",
       "    </tr>\n",
       "    <tr>\n",
       "      <th>83487</th>\n",
       "      <td>2017-08-15</td>\n",
       "      <td>54</td>\n",
       "      <td>802</td>\n",
       "    </tr>\n",
       "  </tbody>\n",
       "</table>\n",
       "<p>83488 rows × 3 columns</p>\n",
       "</div>"
      ],
      "text/plain": [
       "             date  store_nbr  transactions\n",
       "0      2013-01-01         25           770\n",
       "1      2013-01-02          1          2111\n",
       "2      2013-01-02          2          2358\n",
       "3      2013-01-02          3          3487\n",
       "4      2013-01-02          4          1922\n",
       "...           ...        ...           ...\n",
       "83483  2017-08-15         50          2804\n",
       "83484  2017-08-15         51          1573\n",
       "83485  2017-08-15         52          2255\n",
       "83486  2017-08-15         53           932\n",
       "83487  2017-08-15         54           802\n",
       "\n",
       "[83488 rows x 3 columns]"
      ]
     },
     "execution_count": 15,
     "metadata": {},
     "output_type": "execute_result"
    }
   ],
   "source": [
    "transactions_data"
   ]
  },
  {
   "cell_type": "code",
   "execution_count": 16,
   "metadata": {
    "execution": {
     "iopub.execute_input": "2025-09-12T17:45:25.782393Z",
     "iopub.status.busy": "2025-09-12T17:45:25.782025Z",
     "iopub.status.idle": "2025-09-12T17:45:25.794404Z",
     "shell.execute_reply": "2025-09-12T17:45:25.793560Z",
     "shell.execute_reply.started": "2025-09-12T17:45:25.782366Z"
    },
    "trusted": true
   },
   "outputs": [
    {
     "name": "stdout",
     "output_type": "stream",
     "text": [
      "date            0\n",
      "store_nbr       0\n",
      "transactions    0\n",
      "dtype: int64\n"
     ]
    }
   ],
   "source": [
    "print(transactions_data.isnull().sum())"
   ]
  },
  {
   "cell_type": "markdown",
   "metadata": {},
   "source": [
    "### Handling missing values"
   ]
  },
  {
   "cell_type": "code",
   "execution_count": 189,
   "metadata": {},
   "outputs": [],
   "source": [
    "oil_data['dcoilwtico'].ffill(inplace=True) \n",
    "oil_data['dcoilwtico'].bfill(inplace=True) "
   ]
  },
  {
   "cell_type": "code",
   "execution_count": 122,
   "metadata": {},
   "outputs": [
    {
     "name": "stdout",
     "output_type": "stream",
     "text": [
      "date          0\n",
      "dcoilwtico    0\n",
      "dtype: int64\n"
     ]
    }
   ],
   "source": [
    "print(oil_data.isnull().sum())"
   ]
  },
  {
   "cell_type": "markdown",
   "metadata": {},
   "source": [
    "### Holiday data"
   ]
  },
  {
   "cell_type": "code",
   "execution_count": 190,
   "metadata": {},
   "outputs": [],
   "source": [
    "# National Holidays (merged on date) \n",
    "national_holidays = holiday_data[holiday_data['locale'] == 'National'].copy()\n",
    "national_holidays['is_national_holiday'] = 1\n",
    "# Handle transferred days correctly\n",
    "national_holidays.loc[national_holidays['transferred'] == True, 'is_national_holiday'] = 0\n",
    "national_holidays = national_holidays[['date', 'is_national_holiday']]\n",
    "national_holidays.drop_duplicates(inplace=True)"
   ]
  },
  {
   "cell_type": "code",
   "execution_count": 191,
   "metadata": {},
   "outputs": [],
   "source": [
    "# Regional Holidays (merged on date and state) ---\n",
    "regional_holidays = holiday_data[holiday_data['locale'] == 'Regional'].copy()\n",
    "# Rename 'locale_name' to 'state' to allow for a correct merge\n",
    "regional_holidays.rename(columns={'locale_name': 'state'}, inplace=True)\n",
    "regional_holidays['is_regional_holiday'] = 1\n",
    "regional_holidays.loc[regional_holidays['transferred'] == True, 'is_regional_holiday'] = 0\n",
    "regional_holidays = regional_holidays[['date', 'state', 'is_regional_holiday']]\n",
    "regional_holidays.drop_duplicates(inplace=True)"
   ]
  },
  {
   "cell_type": "code",
   "execution_count": 193,
   "metadata": {},
   "outputs": [],
   "source": [
    "# Local Holidays (merged on date and city) ---\n",
    "local_holidays = holiday_data[holiday_data['locale'] == 'Local'].copy()\n",
    "# Rename 'locale_name' to 'city' to allow for a correct merge\n",
    "local_holidays.rename(columns={'locale_name': 'city'}, inplace=True)\n",
    "local_holidays['is_local_holiday'] = 1\n",
    "local_holidays.loc[local_holidays['transferred'] == True, 'is_local_holiday'] = 0\n",
    "local_holidays = local_holidays[['date', 'city', 'is_local_holiday']]\n",
    "local_holidays.drop_duplicates(inplace=True)"
   ]
  },
  {
   "cell_type": "markdown",
   "metadata": {},
   "source": [
    "### Merging all other dataframes into train and test data frames"
   ]
  },
  {
   "cell_type": "code",
   "execution_count": 194,
   "metadata": {
    "execution": {
     "iopub.execute_input": "2025-09-12T17:54:51.604193Z",
     "iopub.status.busy": "2025-09-12T17:54:51.603096Z",
     "iopub.status.idle": "2025-09-12T17:54:56.479176Z",
     "shell.execute_reply": "2025-09-12T17:54:56.478152Z",
     "shell.execute_reply.started": "2025-09-12T17:54:51.604146Z"
    },
    "trusted": true
   },
   "outputs": [],
   "source": [
    "train_data = pd.merge(train_data, stores_data, on='store_nbr', how='left')\n",
    "train_data = pd.merge(train_data, transactions_data, on=['date', 'store_nbr'], how='left')\n",
    "train_data = pd.merge(train_data, oil_data, on='date', how='left')\n",
    "train_data['transactions'].fillna(0, inplace=True)\n",
    "train_data['dcoilwtico'] = train_data['dcoilwtico'].ffill()"
   ]
  },
  {
   "cell_type": "code",
   "execution_count": 195,
   "metadata": {},
   "outputs": [],
   "source": [
    "train_data = pd.merge(train_data, national_holidays, on='date', how='left')\n",
    "train_data = pd.merge(train_data, regional_holidays, on=['date', 'state'], how='left')\n",
    "train_data = pd.merge(train_data, local_holidays, on=['date', 'city'], how='left')\n",
    "\n",
    "train_data['is_national_holiday'].fillna(0, inplace=True)\n",
    "train_data['is_regional_holiday'].fillna(0, inplace=True)\n",
    "train_data['is_local_holiday'].fillna(0, inplace=True)"
   ]
  },
  {
   "cell_type": "code",
   "execution_count": 160,
   "metadata": {
    "execution": {
     "iopub.execute_input": "2025-09-12T18:05:44.867857Z",
     "iopub.status.busy": "2025-09-12T18:05:44.867477Z",
     "iopub.status.idle": "2025-09-12T18:05:44.890668Z",
     "shell.execute_reply": "2025-09-12T18:05:44.889483Z",
     "shell.execute_reply.started": "2025-09-12T18:05:44.867828Z"
    },
    "trusted": true
   },
   "outputs": [
    {
     "data": {
      "text/html": [
       "<div>\n",
       "<style scoped>\n",
       "    .dataframe tbody tr th:only-of-type {\n",
       "        vertical-align: middle;\n",
       "    }\n",
       "\n",
       "    .dataframe tbody tr th {\n",
       "        vertical-align: top;\n",
       "    }\n",
       "\n",
       "    .dataframe thead th {\n",
       "        text-align: right;\n",
       "    }\n",
       "</style>\n",
       "<table border=\"1\" class=\"dataframe\">\n",
       "  <thead>\n",
       "    <tr style=\"text-align: right;\">\n",
       "      <th></th>\n",
       "      <th>id</th>\n",
       "      <th>date</th>\n",
       "      <th>store_nbr</th>\n",
       "      <th>family</th>\n",
       "      <th>sales</th>\n",
       "      <th>onpromotion</th>\n",
       "      <th>city</th>\n",
       "      <th>state</th>\n",
       "      <th>type</th>\n",
       "      <th>cluster</th>\n",
       "      <th>transactions</th>\n",
       "      <th>dcoilwtico</th>\n",
       "      <th>is_national_holiday</th>\n",
       "      <th>is_regional_holiday</th>\n",
       "      <th>is_local_holiday</th>\n",
       "    </tr>\n",
       "  </thead>\n",
       "  <tbody>\n",
       "    <tr>\n",
       "      <th>0</th>\n",
       "      <td>0</td>\n",
       "      <td>2013-01-01</td>\n",
       "      <td>1</td>\n",
       "      <td>AUTOMOTIVE</td>\n",
       "      <td>0.0</td>\n",
       "      <td>0</td>\n",
       "      <td>Quito</td>\n",
       "      <td>Pichincha</td>\n",
       "      <td>D</td>\n",
       "      <td>13</td>\n",
       "      <td>NaN</td>\n",
       "      <td>93.14</td>\n",
       "      <td>1.0</td>\n",
       "      <td>0.0</td>\n",
       "      <td>0.0</td>\n",
       "    </tr>\n",
       "    <tr>\n",
       "      <th>1</th>\n",
       "      <td>1</td>\n",
       "      <td>2013-01-01</td>\n",
       "      <td>1</td>\n",
       "      <td>BABY CARE</td>\n",
       "      <td>0.0</td>\n",
       "      <td>0</td>\n",
       "      <td>Quito</td>\n",
       "      <td>Pichincha</td>\n",
       "      <td>D</td>\n",
       "      <td>13</td>\n",
       "      <td>NaN</td>\n",
       "      <td>93.14</td>\n",
       "      <td>1.0</td>\n",
       "      <td>0.0</td>\n",
       "      <td>0.0</td>\n",
       "    </tr>\n",
       "    <tr>\n",
       "      <th>2</th>\n",
       "      <td>2</td>\n",
       "      <td>2013-01-01</td>\n",
       "      <td>1</td>\n",
       "      <td>BEAUTY</td>\n",
       "      <td>0.0</td>\n",
       "      <td>0</td>\n",
       "      <td>Quito</td>\n",
       "      <td>Pichincha</td>\n",
       "      <td>D</td>\n",
       "      <td>13</td>\n",
       "      <td>NaN</td>\n",
       "      <td>93.14</td>\n",
       "      <td>1.0</td>\n",
       "      <td>0.0</td>\n",
       "      <td>0.0</td>\n",
       "    </tr>\n",
       "    <tr>\n",
       "      <th>3</th>\n",
       "      <td>3</td>\n",
       "      <td>2013-01-01</td>\n",
       "      <td>1</td>\n",
       "      <td>BEVERAGES</td>\n",
       "      <td>0.0</td>\n",
       "      <td>0</td>\n",
       "      <td>Quito</td>\n",
       "      <td>Pichincha</td>\n",
       "      <td>D</td>\n",
       "      <td>13</td>\n",
       "      <td>NaN</td>\n",
       "      <td>93.14</td>\n",
       "      <td>1.0</td>\n",
       "      <td>0.0</td>\n",
       "      <td>0.0</td>\n",
       "    </tr>\n",
       "    <tr>\n",
       "      <th>4</th>\n",
       "      <td>4</td>\n",
       "      <td>2013-01-01</td>\n",
       "      <td>1</td>\n",
       "      <td>BOOKS</td>\n",
       "      <td>0.0</td>\n",
       "      <td>0</td>\n",
       "      <td>Quito</td>\n",
       "      <td>Pichincha</td>\n",
       "      <td>D</td>\n",
       "      <td>13</td>\n",
       "      <td>NaN</td>\n",
       "      <td>93.14</td>\n",
       "      <td>1.0</td>\n",
       "      <td>0.0</td>\n",
       "      <td>0.0</td>\n",
       "    </tr>\n",
       "    <tr>\n",
       "      <th>5</th>\n",
       "      <td>5</td>\n",
       "      <td>2013-01-01</td>\n",
       "      <td>1</td>\n",
       "      <td>BREAD/BAKERY</td>\n",
       "      <td>0.0</td>\n",
       "      <td>0</td>\n",
       "      <td>Quito</td>\n",
       "      <td>Pichincha</td>\n",
       "      <td>D</td>\n",
       "      <td>13</td>\n",
       "      <td>NaN</td>\n",
       "      <td>93.14</td>\n",
       "      <td>1.0</td>\n",
       "      <td>0.0</td>\n",
       "      <td>0.0</td>\n",
       "    </tr>\n",
       "    <tr>\n",
       "      <th>6</th>\n",
       "      <td>6</td>\n",
       "      <td>2013-01-01</td>\n",
       "      <td>1</td>\n",
       "      <td>CELEBRATION</td>\n",
       "      <td>0.0</td>\n",
       "      <td>0</td>\n",
       "      <td>Quito</td>\n",
       "      <td>Pichincha</td>\n",
       "      <td>D</td>\n",
       "      <td>13</td>\n",
       "      <td>NaN</td>\n",
       "      <td>93.14</td>\n",
       "      <td>1.0</td>\n",
       "      <td>0.0</td>\n",
       "      <td>0.0</td>\n",
       "    </tr>\n",
       "    <tr>\n",
       "      <th>7</th>\n",
       "      <td>7</td>\n",
       "      <td>2013-01-01</td>\n",
       "      <td>1</td>\n",
       "      <td>CLEANING</td>\n",
       "      <td>0.0</td>\n",
       "      <td>0</td>\n",
       "      <td>Quito</td>\n",
       "      <td>Pichincha</td>\n",
       "      <td>D</td>\n",
       "      <td>13</td>\n",
       "      <td>NaN</td>\n",
       "      <td>93.14</td>\n",
       "      <td>1.0</td>\n",
       "      <td>0.0</td>\n",
       "      <td>0.0</td>\n",
       "    </tr>\n",
       "    <tr>\n",
       "      <th>8</th>\n",
       "      <td>8</td>\n",
       "      <td>2013-01-01</td>\n",
       "      <td>1</td>\n",
       "      <td>DAIRY</td>\n",
       "      <td>0.0</td>\n",
       "      <td>0</td>\n",
       "      <td>Quito</td>\n",
       "      <td>Pichincha</td>\n",
       "      <td>D</td>\n",
       "      <td>13</td>\n",
       "      <td>NaN</td>\n",
       "      <td>93.14</td>\n",
       "      <td>1.0</td>\n",
       "      <td>0.0</td>\n",
       "      <td>0.0</td>\n",
       "    </tr>\n",
       "    <tr>\n",
       "      <th>9</th>\n",
       "      <td>9</td>\n",
       "      <td>2013-01-01</td>\n",
       "      <td>1</td>\n",
       "      <td>DELI</td>\n",
       "      <td>0.0</td>\n",
       "      <td>0</td>\n",
       "      <td>Quito</td>\n",
       "      <td>Pichincha</td>\n",
       "      <td>D</td>\n",
       "      <td>13</td>\n",
       "      <td>NaN</td>\n",
       "      <td>93.14</td>\n",
       "      <td>1.0</td>\n",
       "      <td>0.0</td>\n",
       "      <td>0.0</td>\n",
       "    </tr>\n",
       "  </tbody>\n",
       "</table>\n",
       "</div>"
      ],
      "text/plain": [
       "   id        date  store_nbr        family  sales  onpromotion   city  \\\n",
       "0   0  2013-01-01          1    AUTOMOTIVE    0.0            0  Quito   \n",
       "1   1  2013-01-01          1     BABY CARE    0.0            0  Quito   \n",
       "2   2  2013-01-01          1        BEAUTY    0.0            0  Quito   \n",
       "3   3  2013-01-01          1     BEVERAGES    0.0            0  Quito   \n",
       "4   4  2013-01-01          1         BOOKS    0.0            0  Quito   \n",
       "5   5  2013-01-01          1  BREAD/BAKERY    0.0            0  Quito   \n",
       "6   6  2013-01-01          1   CELEBRATION    0.0            0  Quito   \n",
       "7   7  2013-01-01          1      CLEANING    0.0            0  Quito   \n",
       "8   8  2013-01-01          1         DAIRY    0.0            0  Quito   \n",
       "9   9  2013-01-01          1          DELI    0.0            0  Quito   \n",
       "\n",
       "       state type  cluster  transactions  dcoilwtico  is_national_holiday  \\\n",
       "0  Pichincha    D       13           NaN       93.14                  1.0   \n",
       "1  Pichincha    D       13           NaN       93.14                  1.0   \n",
       "2  Pichincha    D       13           NaN       93.14                  1.0   \n",
       "3  Pichincha    D       13           NaN       93.14                  1.0   \n",
       "4  Pichincha    D       13           NaN       93.14                  1.0   \n",
       "5  Pichincha    D       13           NaN       93.14                  1.0   \n",
       "6  Pichincha    D       13           NaN       93.14                  1.0   \n",
       "7  Pichincha    D       13           NaN       93.14                  1.0   \n",
       "8  Pichincha    D       13           NaN       93.14                  1.0   \n",
       "9  Pichincha    D       13           NaN       93.14                  1.0   \n",
       "\n",
       "   is_regional_holiday  is_local_holiday  \n",
       "0                  0.0               0.0  \n",
       "1                  0.0               0.0  \n",
       "2                  0.0               0.0  \n",
       "3                  0.0               0.0  \n",
       "4                  0.0               0.0  \n",
       "5                  0.0               0.0  \n",
       "6                  0.0               0.0  \n",
       "7                  0.0               0.0  \n",
       "8                  0.0               0.0  \n",
       "9                  0.0               0.0  "
      ]
     },
     "execution_count": 160,
     "metadata": {},
     "output_type": "execute_result"
    }
   ],
   "source": [
    "train_data.head(10)"
   ]
  },
  {
   "cell_type": "code",
   "execution_count": 196,
   "metadata": {
    "execution": {
     "iopub.execute_input": "2025-09-12T17:56:24.128614Z",
     "iopub.status.busy": "2025-09-12T17:56:24.127744Z",
     "iopub.status.idle": "2025-09-12T17:56:24.189717Z",
     "shell.execute_reply": "2025-09-12T17:56:24.188617Z",
     "shell.execute_reply.started": "2025-09-12T17:56:24.128576Z"
    },
    "trusted": true
   },
   "outputs": [],
   "source": [
    "test_data = pd.merge(test_data, stores_data, on='store_nbr', how='left')\n",
    "test_data = pd.merge(test_data, transactions_data, on=['date', 'store_nbr'], how='left')\n",
    "test_data = pd.merge(test_data, oil_data, on='date', how='left')\n",
    "test_data['transactions'].fillna(0, inplace=True)\n",
    "test_data['dcoilwtico'] = test_data['dcoilwtico'].ffill()"
   ]
  },
  {
   "cell_type": "code",
   "execution_count": 197,
   "metadata": {},
   "outputs": [],
   "source": [
    "test_data = pd.merge(test_data, national_holidays, on='date', how='left')\n",
    "test_data = pd.merge(test_data, regional_holidays, on=['date', 'state'], how='left')\n",
    "test_data = pd.merge(test_data, local_holidays, on=['date', 'city'], how='left')\n",
    "\n",
    "test_data['is_national_holiday'].fillna(0, inplace=True)\n",
    "test_data['is_regional_holiday'].fillna(0, inplace=True)\n",
    "test_data['is_local_holiday'].fillna(0, inplace=True)"
   ]
  },
  {
   "cell_type": "code",
   "execution_count": 163,
   "metadata": {},
   "outputs": [
    {
     "data": {
      "text/plain": [
       "Index(['id', 'date', 'store_nbr', 'family', 'sales', 'onpromotion', 'city',\n",
       "       'state', 'type', 'cluster', 'transactions', 'dcoilwtico',\n",
       "       'is_national_holiday', 'is_regional_holiday', 'is_local_holiday'],\n",
       "      dtype='object')"
      ]
     },
     "execution_count": 163,
     "metadata": {},
     "output_type": "execute_result"
    }
   ],
   "source": [
    "train_data.columns"
   ]
  },
  {
   "cell_type": "code",
   "execution_count": 198,
   "metadata": {
    "execution": {
     "iopub.execute_input": "2025-09-12T18:15:50.492743Z",
     "iopub.status.busy": "2025-09-12T18:15:50.492445Z",
     "iopub.status.idle": "2025-09-12T18:15:50.498333Z",
     "shell.execute_reply": "2025-09-12T18:15:50.497208Z",
     "shell.execute_reply.started": "2025-09-12T18:15:50.492723Z"
    },
    "trusted": true
   },
   "outputs": [
    {
     "name": "stdout",
     "output_type": "stream",
     "text": [
      "(3000888, 15)\n",
      "(28512, 14)\n"
     ]
    }
   ],
   "source": [
    "print(train_data.shape)\n",
    "print(test_data.shape)"
   ]
  },
  {
   "cell_type": "markdown",
   "metadata": {},
   "source": [
    "## Feature Engineering"
   ]
  },
  {
   "cell_type": "markdown",
   "metadata": {},
   "source": [
    "### Basic date based features "
   ]
  },
  {
   "cell_type": "code",
   "execution_count": 199,
   "metadata": {
    "trusted": true
   },
   "outputs": [],
   "source": [
    "train_data[\"date\"] = pd.to_datetime(train_data[\"date\"])\n",
    "test_data[\"date\"] = pd.to_datetime(test_data[\"date\"])"
   ]
  },
  {
   "cell_type": "code",
   "execution_count": 200,
   "metadata": {},
   "outputs": [],
   "source": [
    "train_data['year'] = train_data['date'].dt.year\n",
    "train_data['dayofyear'] = train_data['date'].dt.dayofyear\n",
    "train_data['quarter'] = train_data['date'].dt.quarter\n",
    "train_data['is_weekend'] = (train_data['date'].dt.dayofweek >= 5).astype(int)\n",
    "\n",
    "test_data['year'] = test_data['date'].dt.year\n",
    "test_data['dayofyear'] = test_data['date'].dt.dayofyear\n",
    "test_data['quarter'] = test_data['date'].dt.quarter\n",
    "test_data['is_weekend'] = (test_data['date'].dt.dayofweek >= 5).astype(int)\n"
   ]
  },
  {
   "cell_type": "markdown",
   "metadata": {},
   "source": [
    "### Cyclic features with Sin & Cos transformation"
   ]
  },
  {
   "cell_type": "code",
   "execution_count": 201,
   "metadata": {},
   "outputs": [],
   "source": [
    "train_data['month_sin'] = np.sin(2 * np.pi * train_data['date'].dt.month / 12)\n",
    "train_data['month_cos'] = np.cos(2 * np.pi * train_data['date'].dt.month / 12)\n",
    "train_data['dayofweek_sin'] = np.sin(2 * np.pi * train_data['date'].dt.dayofweek / 7)\n",
    "train_data['dayofweek_cos'] = np.cos(2 * np.pi * train_data['date'].dt.dayofweek / 7)\n",
    "\n",
    "test_data['month_sin'] = np.sin(2 * np.pi * test_data['date'].dt.month / 12)\n",
    "test_data['month_cos'] = np.cos(2 * np.pi * test_data['date'].dt.month / 12)\n",
    "test_data['dayofweek_sin'] = np.sin(2 * np.pi * test_data['date'].dt.dayofweek / 7)\n",
    "test_data['dayofweek_cos'] = np.cos(2 * np.pi * test_data['date'].dt.dayofweek / 7)"
   ]
  },
  {
   "cell_type": "markdown",
   "metadata": {},
   "source": [
    "#### Holiday & Special Event Features"
   ]
  },
  {
   "cell_type": "code",
   "execution_count": 202,
   "metadata": {},
   "outputs": [],
   "source": [
    "train_data['is_holiday'] = train_data[['is_national_holiday', 'is_regional_holiday', 'is_local_holiday']].max(axis=1)\n",
    "test_data['is_holiday'] = test_data[['is_national_holiday', 'is_regional_holiday', 'is_local_holiday']].max(axis=1)"
   ]
  },
  {
   "cell_type": "markdown",
   "metadata": {},
   "source": [
    "### Payday Feature"
   ]
  },
  {
   "cell_type": "code",
   "execution_count": 203,
   "metadata": {},
   "outputs": [],
   "source": [
    "# Wages are paid on the 15th and last day of the month\n",
    "train_data['is_payday'] = np.where(\n",
    "    (train_data['date'].dt.day == 15) | (train_data['date'].dt.is_month_end),\n",
    "    1, 0\n",
    ")\n",
    "\n",
    "test_data['is_payday'] = np.where(\n",
    "    (test_data['date'].dt.day == 15) | (test_data['date'].dt.is_month_end),\n",
    "    1, 0\n",
    ")"
   ]
  },
  {
   "cell_type": "markdown",
   "metadata": {},
   "source": [
    "### Earthquake feature"
   ]
  },
  {
   "cell_type": "code",
   "execution_count": 204,
   "metadata": {},
   "outputs": [],
   "source": [
    "# Creating a flag for few week after earthquake event in 2016\n",
    "earthquake_start = pd.to_datetime('2016-04-16')\n",
    "earthquake_end = pd.to_datetime('2016-05-31')\n",
    "train_data['post_earthquake_effect'] = np.where(\n",
    "    (train_data['date'] >= earthquake_start) & (train_data['date'] <= earthquake_end),\n",
    "    1, 0\n",
    ")\n",
    "test_data['post_earthquake_effect'] = np.where(\n",
    "    (test_data['date'] >= earthquake_start) & (test_data['date'] <= earthquake_end),\n",
    "    1, 0\n",
    ")"
   ]
  },
  {
   "cell_type": "code",
   "execution_count": 205,
   "metadata": {},
   "outputs": [
    {
     "name": "stdout",
     "output_type": "stream",
     "text": [
      "(3000888, 26)\n",
      "(28512, 25)\n"
     ]
    }
   ],
   "source": [
    "print(train_data.shape)\n",
    "print(test_data.shape)"
   ]
  },
  {
   "cell_type": "code",
   "execution_count": 206,
   "metadata": {},
   "outputs": [
    {
     "name": "stdout",
     "output_type": "stream",
     "text": [
      "id                        0\n",
      "date                      0\n",
      "store_nbr                 0\n",
      "family                    0\n",
      "sales                     0\n",
      "onpromotion               0\n",
      "city                      0\n",
      "state                     0\n",
      "type                      0\n",
      "cluster                   0\n",
      "transactions              0\n",
      "dcoilwtico                0\n",
      "is_national_holiday       0\n",
      "is_regional_holiday       0\n",
      "is_local_holiday          0\n",
      "year                      0\n",
      "dayofyear                 0\n",
      "quarter                   0\n",
      "is_weekend                0\n",
      "month_sin                 0\n",
      "month_cos                 0\n",
      "dayofweek_sin             0\n",
      "dayofweek_cos             0\n",
      "is_holiday                0\n",
      "is_payday                 0\n",
      "post_earthquake_effect    0\n",
      "dtype: int64\n"
     ]
    }
   ],
   "source": [
    "print(train_data.isnull().sum())"
   ]
  },
  {
   "cell_type": "code",
   "execution_count": 209,
   "metadata": {},
   "outputs": [
    {
     "name": "stdout",
     "output_type": "stream",
     "text": [
      "id                            0\n",
      "date                          0\n",
      "store_nbr                     0\n",
      "family                        0\n",
      "onpromotion                   0\n",
      "city                          0\n",
      "state                         0\n",
      "type                          0\n",
      "cluster                       0\n",
      "transactions                  0\n",
      "dcoilwtico                    0\n",
      "is_national_holiday           0\n",
      "is_regional_holiday           0\n",
      "is_local_holiday              0\n",
      "year                          0\n",
      "dayofyear                     0\n",
      "quarter                       0\n",
      "is_weekend                    0\n",
      "month_sin                     0\n",
      "month_cos                     0\n",
      "dayofweek_sin                 0\n",
      "dayofweek_cos                 0\n",
      "is_holiday                    0\n",
      "is_payday                     0\n",
      "post_earthquake_effect        0\n",
      "source                        0\n",
      "sales                     28512\n",
      "dtype: int64\n"
     ]
    }
   ],
   "source": [
    "print(test_data.isnull().sum())"
   ]
  },
  {
   "cell_type": "markdown",
   "metadata": {},
   "source": [
    "### Lag features"
   ]
  },
  {
   "cell_type": "markdown",
   "metadata": {},
   "source": [
    "#### The test data is for a 16-day period (from Aug 16 to Aug 31).So we cannot create any lag features lower than 16 days since those data is not available "
   ]
  },
  {
   "cell_type": "markdown",
   "metadata": {},
   "source": [
    "#### Before creating any lag or rolling features we need to merge the train_data and test_data "
   ]
  },
  {
   "cell_type": "code",
   "execution_count": 207,
   "metadata": {},
   "outputs": [],
   "source": [
    "# Add an identifier column to distinguish between train and test sets\n",
    "train_data['source'] = 'train'\n",
    "test_data['source'] = 'test'\n",
    "test_data['sales'] = np.nan\n",
    "df = pd.concat([train_data, test_data], ignore_index=True, sort=False)"
   ]
  },
  {
   "cell_type": "code",
   "execution_count": 208,
   "metadata": {},
   "outputs": [],
   "source": [
    "lags = [16, 21, 28]\n",
    "for lag in lags:\n",
    "    df[f'sales_lag_{lag}'] = df.groupby(['store_nbr', 'family'])['sales'].shift(lag)\n",
    "\n",
    "windows = [7, 14, 28]\n",
    "for window in windows:\n",
    "    rolling_series_mean = df.groupby(['store_nbr', 'family'])[f'sales_lag_16'].rolling(window).mean()\n",
    "    rolling_series_std = df.groupby(['store_nbr', 'family'])[f'sales_lag_16'].rolling(window).std()\n",
    "\n",
    "    df[f'sales_rolling_mean_{window}'] = rolling_series_mean.reset_index(level=[0,1], drop=True)\n",
    "    df[f'sales_rolling_std_{window}'] = rolling_series_std.reset_index(level=[0,1], drop=True)\n",
    "\n",
    "\n"
   ]
  },
  {
   "cell_type": "code",
   "execution_count": 210,
   "metadata": {},
   "outputs": [
    {
     "data": {
      "text/plain": [
       "(3029400, 36)"
      ]
     },
     "execution_count": 210,
     "metadata": {},
     "output_type": "execute_result"
    }
   ],
   "source": [
    "df.shape"
   ]
  },
  {
   "cell_type": "code",
   "execution_count": 211,
   "metadata": {},
   "outputs": [
    {
     "name": "stdout",
     "output_type": "stream",
     "text": [
      "id                            0\n",
      "date                          0\n",
      "store_nbr                     0\n",
      "family                        0\n",
      "sales                     28512\n",
      "onpromotion                   0\n",
      "city                          0\n",
      "state                         0\n",
      "type                          0\n",
      "cluster                       0\n",
      "transactions                  0\n",
      "dcoilwtico                    0\n",
      "is_national_holiday           0\n",
      "is_regional_holiday           0\n",
      "is_local_holiday              0\n",
      "year                          0\n",
      "dayofyear                     0\n",
      "quarter                       0\n",
      "is_weekend                    0\n",
      "month_sin                     0\n",
      "month_cos                     0\n",
      "dayofweek_sin                 0\n",
      "dayofweek_cos                 0\n",
      "is_holiday                    0\n",
      "is_payday                     0\n",
      "post_earthquake_effect        0\n",
      "source                        0\n",
      "sales_lag_16              28512\n",
      "sales_lag_21              37422\n",
      "sales_lag_28              49896\n",
      "sales_rolling_mean_7      39204\n",
      "sales_rolling_std_7       39204\n",
      "sales_rolling_mean_14     51678\n",
      "sales_rolling_std_14      51678\n",
      "sales_rolling_mean_28     76626\n",
      "sales_rolling_std_28      76626\n",
      "dtype: int64\n"
     ]
    }
   ],
   "source": [
    "print(df.isnull().sum())"
   ]
  },
  {
   "cell_type": "code",
   "execution_count": 212,
   "metadata": {},
   "outputs": [],
   "source": [
    "df.fillna(0, inplace=True)"
   ]
  },
  {
   "cell_type": "code",
   "execution_count": 213,
   "metadata": {},
   "outputs": [
    {
     "name": "stdout",
     "output_type": "stream",
     "text": [
      "id                        0\n",
      "date                      0\n",
      "store_nbr                 0\n",
      "family                    0\n",
      "sales                     0\n",
      "onpromotion               0\n",
      "city                      0\n",
      "state                     0\n",
      "type                      0\n",
      "cluster                   0\n",
      "transactions              0\n",
      "dcoilwtico                0\n",
      "is_national_holiday       0\n",
      "is_regional_holiday       0\n",
      "is_local_holiday          0\n",
      "year                      0\n",
      "dayofyear                 0\n",
      "quarter                   0\n",
      "is_weekend                0\n",
      "month_sin                 0\n",
      "month_cos                 0\n",
      "dayofweek_sin             0\n",
      "dayofweek_cos             0\n",
      "is_holiday                0\n",
      "is_payday                 0\n",
      "post_earthquake_effect    0\n",
      "source                    0\n",
      "sales_lag_16              0\n",
      "sales_lag_21              0\n",
      "sales_lag_28              0\n",
      "sales_rolling_mean_7      0\n",
      "sales_rolling_std_7       0\n",
      "sales_rolling_mean_14     0\n",
      "sales_rolling_std_14      0\n",
      "sales_rolling_mean_28     0\n",
      "sales_rolling_std_28      0\n",
      "dtype: int64\n"
     ]
    }
   ],
   "source": [
    "print(df.isnull().sum())"
   ]
  },
  {
   "cell_type": "markdown",
   "metadata": {},
   "source": [
    "### Handling categorical features"
   ]
  },
  {
   "cell_type": "code",
   "execution_count": 104,
   "metadata": {},
   "outputs": [
    {
     "data": {
      "text/plain": [
       "id                                 int64\n",
       "date                      datetime64[ns]\n",
       "store_nbr                          int64\n",
       "family                            object\n",
       "sales                            float64\n",
       "onpromotion                        int64\n",
       "city                              object\n",
       "state                             object\n",
       "store_type                        object\n",
       "cluster                            int64\n",
       "transactions                     float64\n",
       "dcoilwtico                       float64\n",
       "year                               int32\n",
       "dayofyear                          int32\n",
       "quarter                            int32\n",
       "is_weekend                         int32\n",
       "month_sin                        float64\n",
       "month_cos                        float64\n",
       "dayofweek_sin                    float64\n",
       "dayofweek_cos                    float64\n",
       "is_holiday_day                     int32\n",
       "is_work_day                        int32\n",
       "is_payday                          int32\n",
       "post_earthquake_effect             int32\n",
       "source                            object\n",
       "sales_lag_16                     float64\n",
       "sales_lag_21                     float64\n",
       "sales_lag_28                     float64\n",
       "sales_rolling_mean_7             float64\n",
       "sales_rolling_std_7              float64\n",
       "sales_rolling_mean_14            float64\n",
       "sales_rolling_std_14             float64\n",
       "sales_rolling_mean_28            float64\n",
       "sales_rolling_std_28             float64\n",
       "dtype: object"
      ]
     },
     "execution_count": 104,
     "metadata": {},
     "output_type": "execute_result"
    }
   ],
   "source": [
    "df.dtypes"
   ]
  },
  {
   "cell_type": "code",
   "execution_count": 106,
   "metadata": {},
   "outputs": [
    {
     "data": {
      "text/plain": [
       "array(['AUTOMOTIVE', 'BABY CARE', 'BEAUTY', 'BEVERAGES', 'BOOKS',\n",
       "       'BREAD/BAKERY', 'CELEBRATION', 'CLEANING', 'DAIRY', 'DELI', 'EGGS',\n",
       "       'FROZEN FOODS', 'GROCERY I', 'GROCERY II', 'HARDWARE',\n",
       "       'HOME AND KITCHEN I', 'HOME AND KITCHEN II', 'HOME APPLIANCES',\n",
       "       'HOME CARE', 'LADIESWEAR', 'LAWN AND GARDEN', 'LINGERIE',\n",
       "       'LIQUOR,WINE,BEER', 'MAGAZINES', 'MEATS', 'PERSONAL CARE',\n",
       "       'PET SUPPLIES', 'PLAYERS AND ELECTRONICS', 'POULTRY',\n",
       "       'PREPARED FOODS', 'PRODUCE', 'SCHOOL AND OFFICE SUPPLIES',\n",
       "       'SEAFOOD'], dtype=object)"
      ]
     },
     "execution_count": 106,
     "metadata": {},
     "output_type": "execute_result"
    }
   ],
   "source": [
    "df[\"family\"].unique()"
   ]
  },
  {
   "cell_type": "code",
   "execution_count": 107,
   "metadata": {},
   "outputs": [
    {
     "data": {
      "text/plain": [
       "array(['Quito', 'Cayambe', 'Latacunga', 'Riobamba', 'Ibarra',\n",
       "       'Santo Domingo', 'Guaranda', 'Puyo', 'Ambato', 'Guayaquil',\n",
       "       'Salinas', 'Daule', 'Babahoyo', 'Quevedo', 'Playas', 'Libertad',\n",
       "       'Cuenca', 'Loja', 'Machala', 'Esmeraldas', 'Manta', 'El Carmen'],\n",
       "      dtype=object)"
      ]
     },
     "execution_count": 107,
     "metadata": {},
     "output_type": "execute_result"
    }
   ],
   "source": [
    "df[\"city\"].unique()"
   ]
  },
  {
   "cell_type": "code",
   "execution_count": 105,
   "metadata": {},
   "outputs": [
    {
     "data": {
      "text/plain": [
       "array(['Pichincha', 'Cotopaxi', 'Chimborazo', 'Imbabura',\n",
       "       'Santo Domingo de los Tsachilas', 'Bolivar', 'Pastaza',\n",
       "       'Tungurahua', 'Guayas', 'Santa Elena', 'Los Rios', 'Azuay', 'Loja',\n",
       "       'El Oro', 'Esmeraldas', 'Manabi'], dtype=object)"
      ]
     },
     "execution_count": 105,
     "metadata": {},
     "output_type": "execute_result"
    }
   ],
   "source": [
    "df[\"state\"].unique()"
   ]
  },
  {
   "cell_type": "code",
   "execution_count": 108,
   "metadata": {},
   "outputs": [
    {
     "data": {
      "text/plain": [
       "array(['D', 'C', 'B', 'E', 'A'], dtype=object)"
      ]
     },
     "execution_count": 108,
     "metadata": {},
     "output_type": "execute_result"
    }
   ],
   "source": [
    "df[\"store_type\"].unique()"
   ]
  },
  {
   "cell_type": "code",
   "execution_count": 152,
   "metadata": {},
   "outputs": [
    {
     "data": {
      "text/plain": [
       "Index(['id', 'date', 'store_nbr', 'family', 'sales', 'onpromotion', 'city',\n",
       "       'state', 'type', 'cluster', 'transactions', 'dcoilwtico',\n",
       "       'is_national_holiday', 'is_regional_holiday', 'is_local_holiday',\n",
       "       'year', 'dayofyear', 'quarter', 'is_weekend', 'month_sin', 'month_cos',\n",
       "       'dayofweek_sin', 'dayofweek_cos', 'is_holiday', 'is_payday',\n",
       "       'post_earthquake_effect', 'source', 'sales_lag_16', 'sales_lag_21',\n",
       "       'sales_lag_28', 'sales_rolling_mean_7', 'sales_rolling_std_7',\n",
       "       'sales_rolling_mean_14', 'sales_rolling_std_14',\n",
       "       'sales_rolling_mean_28', 'sales_rolling_std_28'],\n",
       "      dtype='object')"
      ]
     },
     "execution_count": 152,
     "metadata": {},
     "output_type": "execute_result"
    }
   ],
   "source": [
    "df.columns"
   ]
  },
  {
   "cell_type": "markdown",
   "metadata": {},
   "source": [
    "#### Converting columns to 'category' dtype"
   ]
  },
  {
   "cell_type": "code",
   "execution_count": 214,
   "metadata": {},
   "outputs": [],
   "source": [
    "categorical_cols = [\n",
    "    'store_nbr', \n",
    "    'family', \n",
    "    'city', \n",
    "    'state', \n",
    "    'type', \n",
    "    'cluster'\n",
    "]\n",
    "for col in categorical_cols:\n",
    "    df[col] = df[col].astype('category')"
   ]
  },
  {
   "cell_type": "code",
   "execution_count": 181,
   "metadata": {},
   "outputs": [
    {
     "data": {
      "text/plain": [
       "id                                 int64\n",
       "date                      datetime64[ns]\n",
       "store_nbr                       category\n",
       "family                          category\n",
       "sales                            float64\n",
       "onpromotion                        int64\n",
       "city                            category\n",
       "state                           category\n",
       "type                            category\n",
       "cluster                         category\n",
       "transactions                     float64\n",
       "dcoilwtico                       float64\n",
       "is_national_holiday              float64\n",
       "is_regional_holiday              float64\n",
       "is_local_holiday                 float64\n",
       "year                               int32\n",
       "dayofyear                          int32\n",
       "quarter                            int32\n",
       "is_weekend                         int32\n",
       "month_sin                        float64\n",
       "month_cos                        float64\n",
       "dayofweek_sin                    float64\n",
       "dayofweek_cos                    float64\n",
       "is_holiday                       float64\n",
       "is_payday                          int32\n",
       "post_earthquake_effect             int32\n",
       "source                            object\n",
       "sales_lag_16                     float64\n",
       "sales_lag_21                     float64\n",
       "sales_lag_28                     float64\n",
       "sales_rolling_mean_7             float64\n",
       "sales_rolling_std_7              float64\n",
       "sales_rolling_mean_14            float64\n",
       "sales_rolling_std_14             float64\n",
       "sales_rolling_mean_28            float64\n",
       "sales_rolling_std_28             float64\n",
       "dtype: object"
      ]
     },
     "execution_count": 181,
     "metadata": {},
     "output_type": "execute_result"
    }
   ],
   "source": [
    "df.dtypes"
   ]
  },
  {
   "cell_type": "markdown",
   "metadata": {},
   "source": [
    "### Separation of data again to train and test"
   ]
  },
  {
   "cell_type": "code",
   "execution_count": 215,
   "metadata": {},
   "outputs": [],
   "source": [
    "train_final = df[df['source'] == 'train'].copy()\n",
    "test_final = df[df['source'] == 'test'].copy()\n",
    "\n",
    "# Drop the helper columns\n",
    "train_final.drop(columns=['source'], inplace=True)\n",
    "test_final.drop(columns=['source'], inplace=True)\n",
    "test_final.drop(columns=['sales'], inplace=True, errors='ignore')\n"
   ]
  },
  {
   "cell_type": "code",
   "execution_count": 218,
   "metadata": {},
   "outputs": [
    {
     "name": "stdout",
     "output_type": "stream",
     "text": [
      "id                        0\n",
      "date                      0\n",
      "store_nbr                 0\n",
      "family                    0\n",
      "sales                     0\n",
      "onpromotion               0\n",
      "city                      0\n",
      "state                     0\n",
      "type                      0\n",
      "cluster                   0\n",
      "transactions              0\n",
      "dcoilwtico                0\n",
      "is_national_holiday       0\n",
      "is_regional_holiday       0\n",
      "is_local_holiday          0\n",
      "year                      0\n",
      "dayofyear                 0\n",
      "quarter                   0\n",
      "is_weekend                0\n",
      "month_sin                 0\n",
      "month_cos                 0\n",
      "dayofweek_sin             0\n",
      "dayofweek_cos             0\n",
      "is_holiday                0\n",
      "is_payday                 0\n",
      "post_earthquake_effect    0\n",
      "sales_lag_16              0\n",
      "sales_lag_21              0\n",
      "sales_lag_28              0\n",
      "sales_rolling_mean_7      0\n",
      "sales_rolling_std_7       0\n",
      "sales_rolling_mean_14     0\n",
      "sales_rolling_std_14      0\n",
      "sales_rolling_mean_28     0\n",
      "sales_rolling_std_28      0\n",
      "dtype: int64\n"
     ]
    }
   ],
   "source": [
    "print(train_final.isnull().sum())\n"
   ]
  },
  {
   "cell_type": "code",
   "execution_count": 219,
   "metadata": {},
   "outputs": [
    {
     "data": {
      "text/plain": [
       "id                        0\n",
       "date                      0\n",
       "store_nbr                 0\n",
       "family                    0\n",
       "onpromotion               0\n",
       "city                      0\n",
       "state                     0\n",
       "type                      0\n",
       "cluster                   0\n",
       "transactions              0\n",
       "dcoilwtico                0\n",
       "is_national_holiday       0\n",
       "is_regional_holiday       0\n",
       "is_local_holiday          0\n",
       "year                      0\n",
       "dayofyear                 0\n",
       "quarter                   0\n",
       "is_weekend                0\n",
       "month_sin                 0\n",
       "month_cos                 0\n",
       "dayofweek_sin             0\n",
       "dayofweek_cos             0\n",
       "is_holiday                0\n",
       "is_payday                 0\n",
       "post_earthquake_effect    0\n",
       "sales_lag_16              0\n",
       "sales_lag_21              0\n",
       "sales_lag_28              0\n",
       "sales_rolling_mean_7      0\n",
       "sales_rolling_std_7       0\n",
       "sales_rolling_mean_14     0\n",
       "sales_rolling_std_14      0\n",
       "sales_rolling_mean_28     0\n",
       "sales_rolling_std_28      0\n",
       "dtype: int64"
      ]
     },
     "execution_count": 219,
     "metadata": {},
     "output_type": "execute_result"
    }
   ],
   "source": [
    "test_final.isnull().sum()"
   ]
  },
  {
   "cell_type": "code",
   "execution_count": 220,
   "metadata": {},
   "outputs": [
    {
     "name": "stdout",
     "output_type": "stream",
     "text": [
      "(3000888, 35)\n",
      "(28512, 34)\n"
     ]
    }
   ],
   "source": [
    "print(train_final.shape)\n",
    "print(test_final.shape)"
   ]
  }
 ],
 "metadata": {
  "kaggle": {
   "accelerator": "none",
   "dataSources": [
    {
     "databundleVersionId": 2887556,
     "sourceId": 29781,
     "sourceType": "competition"
    }
   ],
   "dockerImageVersionId": 31089,
   "isGpuEnabled": false,
   "isInternetEnabled": false,
   "language": "python",
   "sourceType": "notebook"
  },
  "kernelspec": {
   "display_name": "Python 3",
   "language": "python",
   "name": "python3"
  },
  "language_info": {
   "codemirror_mode": {
    "name": "ipython",
    "version": 3
   },
   "file_extension": ".py",
   "mimetype": "text/x-python",
   "name": "python",
   "nbconvert_exporter": "python",
   "pygments_lexer": "ipython3",
   "version": "3.11.5"
  }
 },
 "nbformat": 4,
 "nbformat_minor": 4
}
